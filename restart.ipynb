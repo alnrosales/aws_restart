{
  "nbformat": 4,
  "nbformat_minor": 0,
  "metadata": {
    "colab": {
      "name": "restart.ipynb",
      "provenance": [],
      "collapsed_sections": [],
      "authorship_tag": "ABX9TyMVVUZPSVuI1H83WrUTmELb",
      "include_colab_link": true
    },
    "kernelspec": {
      "name": "python3",
      "display_name": "Python 3"
    },
    "language_info": {
      "name": "python"
    }
  },
  "cells": [
    {
      "cell_type": "markdown",
      "metadata": {
        "id": "view-in-github",
        "colab_type": "text"
      },
      "source": [
        "<a href=\"https://colab.research.google.com/github/alnrosales/aws_restart/blob/main/restart.ipynb\" target=\"_parent\"><img src=\"https://colab.research.google.com/assets/colab-badge.svg\" alt=\"Open In Colab\"/></a>"
      ]
    },
    {
      "cell_type": "markdown",
      "source": [
        "## **Writing your first Python program**"
      ],
      "metadata": {
        "id": "-51aD0cnRo5j"
      }
    },
    {
      "cell_type": "code",
      "source": [
        "print(\"Hello, World\")"
      ],
      "metadata": {
        "colab": {
          "base_uri": "https://localhost:8080/"
        },
        "id": "rDSSK2opRswL",
        "outputId": "ad971fc7-29c3-443d-b9ee-0b91cda0831d"
      },
      "execution_count": null,
      "outputs": [
        {
          "output_type": "stream",
          "name": "stdout",
          "text": [
            "Hello, World\n"
          ]
        }
      ]
    },
    {
      "cell_type": "markdown",
      "source": [
        "## **Working with Numeric Data Types**"
      ],
      "metadata": {
        "id": "BCobhUvfRxdT"
      }
    },
    {
      "cell_type": "markdown",
      "source": [
        "Adding"
      ],
      "metadata": {
        "id": "PVPt8lYFR0dE"
      }
    },
    {
      "cell_type": "code",
      "execution_count": null,
      "metadata": {
        "colab": {
          "base_uri": "https://localhost:8080/"
        },
        "id": "4mqIj46P1GKR",
        "outputId": "38a7e73f-e434-40d9-8cfb-d4ca9f8019f1"
      },
      "outputs": [
        {
          "output_type": "execute_result",
          "data": {
            "text/plain": [
              "4"
            ]
          },
          "metadata": {},
          "execution_count": 1
        }
      ],
      "source": [
        "2+2"
      ]
    },
    {
      "cell_type": "markdown",
      "source": [
        "Subtracting"
      ],
      "metadata": {
        "id": "olqoEr-yR2Gi"
      }
    },
    {
      "cell_type": "code",
      "source": [
        "4-2"
      ],
      "metadata": {
        "colab": {
          "base_uri": "https://localhost:8080/"
        },
        "id": "abX8APZg2CN8",
        "outputId": "8dd528da-8784-4b32-83d0-3467f3eab1a8"
      },
      "execution_count": null,
      "outputs": [
        {
          "output_type": "execute_result",
          "data": {
            "text/plain": [
              "2"
            ]
          },
          "metadata": {},
          "execution_count": 2
        }
      ]
    },
    {
      "cell_type": "markdown",
      "source": [
        "Multiplying"
      ],
      "metadata": {
        "id": "qsLF85HbR6GO"
      }
    },
    {
      "cell_type": "code",
      "source": [
        "2*2"
      ],
      "metadata": {
        "colab": {
          "base_uri": "https://localhost:8080/"
        },
        "id": "diS5b0GE2CWY",
        "outputId": "194ce2c8-cfe2-4f0a-b445-a28f73bc85bf"
      },
      "execution_count": null,
      "outputs": [
        {
          "output_type": "execute_result",
          "data": {
            "text/plain": [
              "4"
            ]
          },
          "metadata": {},
          "execution_count": 3
        }
      ]
    },
    {
      "cell_type": "markdown",
      "source": [
        "Dividing"
      ],
      "metadata": {
        "id": "T5I3GdcIR9yr"
      }
    },
    {
      "cell_type": "code",
      "source": [
        "4/2"
      ],
      "metadata": {
        "colab": {
          "base_uri": "https://localhost:8080/"
        },
        "id": "DWt8zQVx2CcE",
        "outputId": "10d3246c-d165-4607-b999-03809d9a44c4"
      },
      "execution_count": null,
      "outputs": [
        {
          "output_type": "execute_result",
          "data": {
            "text/plain": [
              "2.0"
            ]
          },
          "metadata": {},
          "execution_count": 4
        }
      ]
    },
    {
      "cell_type": "markdown",
      "source": [
        "Exiting the Python shell"
      ],
      "metadata": {
        "id": "sFAaxyr4SDB_"
      }
    },
    {
      "cell_type": "code",
      "source": [
        "quit()"
      ],
      "metadata": {
        "id": "2Sb_RSUySGKm"
      },
      "execution_count": null,
      "outputs": []
    },
    {
      "cell_type": "markdown",
      "source": [
        "## **Introducing the int data type**"
      ],
      "metadata": {
        "id": "q3uSPcAXSL-A"
      }
    },
    {
      "cell_type": "code",
      "source": [
        "print(\"Python has three numeric types: int, float, and complex\")"
      ],
      "metadata": {
        "colab": {
          "base_uri": "https://localhost:8080/"
        },
        "id": "gncsVbwR2Ceh",
        "outputId": "8582ba4c-a62c-4a98-a231-88ee6470ea65"
      },
      "execution_count": null,
      "outputs": [
        {
          "output_type": "stream",
          "name": "stdout",
          "text": [
            "Python has three numeric types: int, float, and complex\n"
          ]
        }
      ]
    },
    {
      "cell_type": "markdown",
      "source": [
        "Creating a variable"
      ],
      "metadata": {
        "id": "8EjM9J7OSYFY"
      }
    },
    {
      "cell_type": "code",
      "source": [
        "myValue = 1"
      ],
      "metadata": {
        "id": "UZ7AesqGSeDK"
      },
      "execution_count": null,
      "outputs": []
    },
    {
      "cell_type": "code",
      "source": [
        "print(myValue)"
      ],
      "metadata": {
        "id": "8lFeVfGpSgY2"
      },
      "execution_count": null,
      "outputs": []
    },
    {
      "cell_type": "code",
      "source": [
        "print(type(myValue))"
      ],
      "metadata": {
        "id": "a_pDpm_5SjMC"
      },
      "execution_count": null,
      "outputs": []
    },
    {
      "cell_type": "code",
      "source": [
        "print(str(myValue) + \" is of the data type \" + str(type(myValue)))"
      ],
      "metadata": {
        "id": "ut7cohzTSovO"
      },
      "execution_count": null,
      "outputs": []
    },
    {
      "cell_type": "code",
      "source": [
        "myValue = 1\n",
        "print(myValue)\n",
        "print(type(myValue))\n",
        "print(str(myValue) + \" is of the date type \" + str(type(myValue)))"
      ],
      "metadata": {
        "colab": {
          "base_uri": "https://localhost:8080/"
        },
        "id": "Bj_U3D0C65Ai",
        "outputId": "653d7c81-031b-4685-bde0-915c64e78d39"
      },
      "execution_count": null,
      "outputs": [
        {
          "output_type": "stream",
          "name": "stdout",
          "text": [
            "1\n",
            "<class 'int'>\n",
            "1 is of the date type <class 'int'>\n"
          ]
        }
      ]
    },
    {
      "cell_type": "markdown",
      "source": [
        "## **Introducing the float data type**"
      ],
      "metadata": {
        "id": "Ba5U7gAlSwa3"
      }
    },
    {
      "cell_type": "code",
      "source": [
        "myValue = 3.14\n",
        "print(myValue)\n",
        "print(type(myValue))\n",
        "print(str(myValue) + \" is of the data type \" + str(type(myValue)))"
      ],
      "metadata": {
        "colab": {
          "base_uri": "https://localhost:8080/"
        },
        "id": "xPQGj2CZS2LQ",
        "outputId": "c566ee03-961d-49e7-9d78-e8a73a8ebe1c"
      },
      "execution_count": null,
      "outputs": [
        {
          "output_type": "stream",
          "name": "stdout",
          "text": [
            "3.14\n",
            "<class 'float'>\n",
            "3.14 is of the data type <class 'float'>\n"
          ]
        }
      ]
    },
    {
      "cell_type": "markdown",
      "source": [
        "## **Introducing the complex data type**"
      ],
      "metadata": {
        "id": "AEmg8kpsS-Nb"
      }
    },
    {
      "cell_type": "code",
      "source": [
        "myValue = 5j\n",
        "print(myValue)\n",
        "print(type(myValue))\n",
        "print(str(myValue) + \" is of the data type \" + str(type(myValue)))"
      ],
      "metadata": {
        "id": "Jch2YUtdS9cc"
      },
      "execution_count": null,
      "outputs": []
    },
    {
      "cell_type": "markdown",
      "source": [
        "## **Introducing the bool data type**"
      ],
      "metadata": {
        "id": "39KJEC68TCPa"
      }
    },
    {
      "cell_type": "code",
      "source": [
        "myValue = True\n",
        "print(myValue)\n",
        "print(type(myValue))\n",
        "print(str(myValue) + \" is of the data type \" + str(type(myValue)))"
      ],
      "metadata": {
        "colab": {
          "base_uri": "https://localhost:8080/"
        },
        "id": "9L7hQfp4648S",
        "outputId": "dd548e61-976d-45d5-a1fc-a8ebd81bcda7"
      },
      "execution_count": null,
      "outputs": [
        {
          "output_type": "stream",
          "name": "stdout",
          "text": [
            "True\n",
            "<class 'bool'>\n",
            "True is of the data type <class 'bool'>\n"
          ]
        }
      ]
    },
    {
      "cell_type": "code",
      "source": [
        "myValue = False\n",
        "print(myValue)\n",
        "print(type(myValue))\n",
        "print(str(myValue) + \" is of the data type \" + str(type(myValue)))"
      ],
      "metadata": {
        "colab": {
          "base_uri": "https://localhost:8080/"
        },
        "id": "uXcgUdjs645p",
        "outputId": "865970e7-8491-4d9d-ccf8-7367eb7c81ce"
      },
      "execution_count": null,
      "outputs": [
        {
          "output_type": "stream",
          "name": "stdout",
          "text": [
            "False\n",
            "<class 'bool'>\n",
            "False is of the data type <class 'bool'>\n"
          ]
        }
      ]
    },
    {
      "cell_type": "markdown",
      "source": [
        "## **Introducing the string data type**"
      ],
      "metadata": {
        "id": "-S6ttTyQ8TGX"
      }
    },
    {
      "cell_type": "code",
      "source": [
        "myString = \"This is a string\"\n",
        "print(myString)"
      ],
      "metadata": {
        "colab": {
          "base_uri": "https://localhost:8080/"
        },
        "id": "pxjPgmPA9qba",
        "outputId": "1f23289c-b072-40c7-dd1f-d78ce9b1b2a7"
      },
      "execution_count": null,
      "outputs": [
        {
          "output_type": "stream",
          "name": "stdout",
          "text": [
            "This is a string\n"
          ]
        }
      ]
    },
    {
      "cell_type": "code",
      "source": [
        "print(type(myString))"
      ],
      "metadata": {
        "colab": {
          "base_uri": "https://localhost:8080/"
        },
        "id": "joeYC4Km9qY_",
        "outputId": "7db5617e-6fef-40ea-87ce-40e17c9575cc"
      },
      "execution_count": null,
      "outputs": [
        {
          "output_type": "stream",
          "name": "stdout",
          "text": [
            "<class 'str'>\n"
          ]
        }
      ]
    },
    {
      "cell_type": "code",
      "source": [
        "myValue = \"This is a String\"\n",
        "print(myValue)\n",
        "print(type(myValue))\n",
        "print(str(myValue) + \" is of the data type \" + str(type(myValue)))"
      ],
      "metadata": {
        "colab": {
          "base_uri": "https://localhost:8080/"
        },
        "id": "SMCnpvGT9qWm",
        "outputId": "48ae6bf2-5bd4-4418-a446-bb49c2ade810"
      },
      "execution_count": null,
      "outputs": [
        {
          "output_type": "stream",
          "name": "stdout",
          "text": [
            "This is a String\n",
            "<class 'str'>\n",
            "This is a String is of the data type <class 'str'>\n"
          ]
        }
      ]
    },
    {
      "cell_type": "markdown",
      "source": [
        "## **Working with string concatenation**"
      ],
      "metadata": {
        "id": "QHmLbLv_8IaP"
      }
    },
    {
      "cell_type": "code",
      "source": [
        "firstString = \"water\"\n",
        "secondString = \"fall\"\n",
        "thirdString = firstString + secondString\n",
        "print(thirdString)"
      ],
      "metadata": {
        "colab": {
          "base_uri": "https://localhost:8080/"
        },
        "id": "C5aULsNK9qPh",
        "outputId": "df7531ef-e129-414b-9074-df893e9ae2bc"
      },
      "execution_count": null,
      "outputs": [
        {
          "output_type": "stream",
          "name": "stdout",
          "text": [
            "waterfall\n"
          ]
        }
      ]
    },
    {
      "cell_type": "markdown",
      "source": [
        "## **Working with input strings**"
      ],
      "metadata": {
        "id": "XKzgsH6F8Czx"
      }
    },
    {
      "cell_type": "code",
      "source": [
        "name = input(\"What is your name? \")\n",
        "print(name)"
      ],
      "metadata": {
        "colab": {
          "base_uri": "https://localhost:8080/"
        },
        "id": "AyUQ_3qs9qM-",
        "outputId": "a2d98c13-650b-41f9-82fa-47591ea3151d"
      },
      "execution_count": null,
      "outputs": [
        {
          "output_type": "stream",
          "name": "stdout",
          "text": [
            "What is your name? Alistair\n",
            "Alistair\n"
          ]
        }
      ]
    },
    {
      "cell_type": "markdown",
      "source": [
        "## **Formating output strings**"
      ],
      "metadata": {
        "id": "pmRTu3Ue79hU"
      }
    },
    {
      "cell_type": "code",
      "source": [
        "color = input(\"What is your favorite color?  \")\n",
        "animal = input(\"What is your favorite animal?  \")\n",
        "print(\"{}, you like a {} {}!\".format(name,color,animal))"
      ],
      "metadata": {
        "colab": {
          "base_uri": "https://localhost:8080/"
        },
        "id": "OnRu7MUJ_Vc5",
        "outputId": "c7da8673-fa4b-4dde-c7c3-5ce18e6fe4d7"
      },
      "execution_count": null,
      "outputs": [
        {
          "output_type": "stream",
          "name": "stdout",
          "text": [
            "What is your favorite color?  blue\n",
            "What is your favorite animal?  lion\n",
            "Alistair, you like a blue lion!\n"
          ]
        }
      ]
    },
    {
      "cell_type": "markdown",
      "source": [
        "## **Defining a list**"
      ],
      "metadata": {
        "id": "yh9E82k772gk"
      }
    },
    {
      "cell_type": "code",
      "source": [
        "myFruitList = [\"apple\", \"banana\", \"cherry\"]\n",
        "print(myFruitList)\n",
        "print(type(myFruitList))"
      ],
      "metadata": {
        "colab": {
          "base_uri": "https://localhost:8080/"
        },
        "id": "fd1AUC3M_VaG",
        "outputId": "8ecb51e1-717a-4f6a-ee5a-c7bc28d2a21c"
      },
      "execution_count": null,
      "outputs": [
        {
          "output_type": "stream",
          "name": "stdout",
          "text": [
            "['apple', 'banana', 'cherry']\n",
            "<class 'list'>\n"
          ]
        }
      ]
    },
    {
      "cell_type": "markdown",
      "source": [
        "## **Accessing a list by position**"
      ],
      "metadata": {
        "id": "CjbEc_jl7uqe"
      }
    },
    {
      "cell_type": "code",
      "source": [
        "print(myFruitList[0])"
      ],
      "metadata": {
        "colab": {
          "base_uri": "https://localhost:8080/"
        },
        "id": "mbpsiW2e_VVc",
        "outputId": "8dacdb18-da64-4fbe-d02c-405b59c43302"
      },
      "execution_count": null,
      "outputs": [
        {
          "output_type": "stream",
          "name": "stdout",
          "text": [
            "apple\n"
          ]
        }
      ]
    },
    {
      "cell_type": "code",
      "source": [
        "print(myFruitList[1])\n"
      ],
      "metadata": {
        "colab": {
          "base_uri": "https://localhost:8080/"
        },
        "id": "bj8GnfMw_VTF",
        "outputId": "d5582a41-7641-40f6-fb60-4376eda71cdb"
      },
      "execution_count": null,
      "outputs": [
        {
          "output_type": "stream",
          "name": "stdout",
          "text": [
            "banana\n"
          ]
        }
      ]
    },
    {
      "cell_type": "code",
      "source": [
        "print(myFruitList[2])"
      ],
      "metadata": {
        "colab": {
          "base_uri": "https://localhost:8080/"
        },
        "id": "1GONjunn_VQk",
        "outputId": "1ae4f42f-9b10-4066-a367-b23c0b7685c4"
      },
      "execution_count": null,
      "outputs": [
        {
          "output_type": "stream",
          "name": "stdout",
          "text": [
            "cherry\n"
          ]
        }
      ]
    },
    {
      "cell_type": "markdown",
      "source": [
        "## **Changing the values in a list**"
      ],
      "metadata": {
        "id": "Cmh6YypIIRh8"
      }
    },
    {
      "cell_type": "code",
      "source": [
        "myFruitList[2] = \"orange\""
      ],
      "metadata": {
        "id": "abDV6J40_VOL"
      },
      "execution_count": null,
      "outputs": []
    },
    {
      "cell_type": "code",
      "source": [
        "print(myFruitList)"
      ],
      "metadata": {
        "colab": {
          "base_uri": "https://localhost:8080/"
        },
        "id": "cBUYQuTD_VLr",
        "outputId": "71cc97e0-eb2b-42b4-dfa8-e4714cc264d5"
      },
      "execution_count": null,
      "outputs": [
        {
          "output_type": "stream",
          "name": "stdout",
          "text": [
            "['apple', 'banana', 'orange']\n"
          ]
        }
      ]
    },
    {
      "cell_type": "markdown",
      "source": [
        "## **Defining a tuple**"
      ],
      "metadata": {
        "id": "4OcXbjjuH_p5"
      }
    },
    {
      "cell_type": "code",
      "source": [
        "myFinalAnswerTuple = (\"apple\", \"banana\", \"pineapple\")\n",
        "print(myFinalAnswerTuple)\n",
        "print(type(myFinalAnswerTuple))"
      ],
      "metadata": {
        "colab": {
          "base_uri": "https://localhost:8080/"
        },
        "id": "toRaH5Bj_VJW",
        "outputId": "15079239-5330-4827-8332-7d1b17f952de"
      },
      "execution_count": null,
      "outputs": [
        {
          "output_type": "stream",
          "name": "stdout",
          "text": [
            "('apple', 'banana', 'pineapple')\n",
            "<class 'tuple'>\n"
          ]
        }
      ]
    },
    {
      "cell_type": "markdown",
      "source": [
        "## **Accessing a tuple by position**"
      ],
      "metadata": {
        "id": "62QAYUhQH5nq"
      }
    },
    {
      "cell_type": "code",
      "source": [
        "print(myFinalAnswerTuple[0])"
      ],
      "metadata": {
        "colab": {
          "base_uri": "https://localhost:8080/"
        },
        "id": "-g7CZIFm_VGr",
        "outputId": "c465eb95-3c7b-4f35-fde4-ee6cb0767860"
      },
      "execution_count": null,
      "outputs": [
        {
          "output_type": "stream",
          "name": "stdout",
          "text": [
            "apple\n"
          ]
        }
      ]
    },
    {
      "cell_type": "code",
      "source": [
        "print(myFinalAnswerTuple[1])"
      ],
      "metadata": {
        "colab": {
          "base_uri": "https://localhost:8080/"
        },
        "id": "Y-2eK2aXHGJf",
        "outputId": "10ac5d67-248e-42ea-ce22-1670fada3f41"
      },
      "execution_count": null,
      "outputs": [
        {
          "output_type": "stream",
          "name": "stdout",
          "text": [
            "banana\n"
          ]
        }
      ]
    },
    {
      "cell_type": "code",
      "source": [
        "print(myFinalAnswerTuple[2])"
      ],
      "metadata": {
        "colab": {
          "base_uri": "https://localhost:8080/"
        },
        "id": "GnhhnIopHGG-",
        "outputId": "f1634f01-d722-4bbc-e722-aac36646babe"
      },
      "execution_count": null,
      "outputs": [
        {
          "output_type": "stream",
          "name": "stdout",
          "text": [
            "pineapple\n"
          ]
        }
      ]
    },
    {
      "cell_type": "markdown",
      "source": [
        "## **Defining a Dictionary**"
      ],
      "metadata": {
        "id": "jTOZcEQTHYIq"
      }
    },
    {
      "cell_type": "code",
      "source": [
        "myFavoriteFruitDictionary = {\n",
        "  \"Akua\" : \"apple\",\n",
        "  \"Saanvi\" : \"banana\",\n",
        "  \"Paulo\" : \"pineapple\"\n",
        "}"
      ],
      "metadata": {
        "id": "nLuOv5tYHGDr"
      },
      "execution_count": null,
      "outputs": []
    },
    {
      "cell_type": "code",
      "source": [
        "print(myFavoriteFruitDictionary)"
      ],
      "metadata": {
        "colab": {
          "base_uri": "https://localhost:8080/"
        },
        "id": "HZAR8dlbHF_r",
        "outputId": "ba74ece6-2fc9-4b63-e08d-3ed37ae45b70"
      },
      "execution_count": null,
      "outputs": [
        {
          "output_type": "stream",
          "name": "stdout",
          "text": [
            "{'Akua': 'apple', 'Saanvi': 'banana', 'Paulo': 'pineapple'}\n"
          ]
        }
      ]
    },
    {
      "cell_type": "code",
      "source": [
        "print(type(myFavoriteFruitDictionary))"
      ],
      "metadata": {
        "colab": {
          "base_uri": "https://localhost:8080/"
        },
        "id": "0EmCr4DqHF8u",
        "outputId": "8e9dc498-419f-4584-d198-c86c32de5bbe"
      },
      "execution_count": null,
      "outputs": [
        {
          "output_type": "stream",
          "name": "stdout",
          "text": [
            "<class 'dict'>\n"
          ]
        }
      ]
    },
    {
      "cell_type": "markdown",
      "source": [
        "## **Accessing a dictionary by name**"
      ],
      "metadata": {
        "id": "MgwvKC19HtzP"
      }
    },
    {
      "cell_type": "code",
      "source": [
        "print(myFavoriteFruitDictionary[\"Akua\"])"
      ],
      "metadata": {
        "colab": {
          "base_uri": "https://localhost:8080/"
        },
        "id": "fmFR-sjHHF6V",
        "outputId": "02a027b4-dd60-4773-a2b3-8fcf09cb47bb"
      },
      "execution_count": null,
      "outputs": [
        {
          "output_type": "stream",
          "name": "stdout",
          "text": [
            "apple\n"
          ]
        }
      ]
    },
    {
      "cell_type": "code",
      "source": [
        "print(myFavoriteFruitDictionary[\"Saanvi\"])"
      ],
      "metadata": {
        "colab": {
          "base_uri": "https://localhost:8080/"
        },
        "id": "kHJxFnYZHF3M",
        "outputId": "1acafc96-29e4-46bd-ea30-0f18b849f6b7"
      },
      "execution_count": null,
      "outputs": [
        {
          "output_type": "stream",
          "name": "stdout",
          "text": [
            "banana\n"
          ]
        }
      ]
    },
    {
      "cell_type": "code",
      "source": [
        "print(myFavoriteFruitDictionary[\"Paulo\"])"
      ],
      "metadata": {
        "colab": {
          "base_uri": "https://localhost:8080/"
        },
        "id": "WdzofKx4HFss",
        "outputId": "e2eef073-14e0-4f7b-ef46-5587d2648da9"
      },
      "execution_count": null,
      "outputs": [
        {
          "output_type": "stream",
          "name": "stdout",
          "text": [
            "pineapple\n"
          ]
        }
      ]
    },
    {
      "cell_type": "markdown",
      "source": [
        "## **Creating a mixed-type list**"
      ],
      "metadata": {
        "id": "3574JtBh8oqf"
      }
    },
    {
      "cell_type": "code",
      "source": [
        "myMixedTypeList = [45, 290578, 1.02, True, \"My dog is on the bed.\", \"45\"]"
      ],
      "metadata": {
        "id": "xWu9E5T1H0ca"
      },
      "execution_count": null,
      "outputs": []
    },
    {
      "cell_type": "code",
      "source": [
        "for item in myMixedTypeList:\n",
        "    print(\"{} is of the data type {}\".format(item,type(item)))\n"
      ],
      "metadata": {
        "id": "eP4XXTksH0Zs",
        "colab": {
          "base_uri": "https://localhost:8080/"
        },
        "outputId": "d5681abd-33a6-4fd6-db15-2353ddeaf645"
      },
      "execution_count": null,
      "outputs": [
        {
          "output_type": "stream",
          "name": "stdout",
          "text": [
            "45 is of the data type <class 'int'>\n",
            "290578 is of the data type <class 'int'>\n",
            "1.02 is of the data type <class 'float'>\n",
            "True is of the data type <class 'bool'>\n",
            "My dog is on the bed. is of the data type <class 'str'>\n",
            "45 is of the data type <class 'str'>\n"
          ]
        }
      ]
    },
    {
      "cell_type": "markdown",
      "source": [
        "## **Creating a car inventory program**"
      ],
      "metadata": {
        "id": "1w0165F0F-R0"
      }
    },
    {
      "cell_type": "markdown",
      "source": [
        "Defining the dictionary"
      ],
      "metadata": {
        "id": "6Inbm5kDGG3p"
      }
    },
    {
      "cell_type": "code",
      "source": [
        "import csv\n",
        "import copy"
      ],
      "metadata": {
        "id": "vGSkL6VqH0XZ"
      },
      "execution_count": null,
      "outputs": []
    },
    {
      "cell_type": "code",
      "source": [
        "myVehicle = {\n",
        "    \"vin\" : \"<empty>\",\n",
        "    \"make\" : \"<empty>\" ,\n",
        "    \"model\" : \"<empty>\" ,\n",
        "    \"year\" : 0,\n",
        "    \"range\" : 0,\n",
        "    \"topSpeed\" : 0,\n",
        "    \"zeroSixty\" : 0.0,\n",
        "    \"mileage\" : 0\n",
        "}\n"
      ],
      "metadata": {
        "id": "1PEo2K_WH0U2"
      },
      "execution_count": null,
      "outputs": []
    },
    {
      "cell_type": "code",
      "source": [
        "for key, value in myVehicle.items():\n",
        "    print(\"{} : {}\".format(key,value))"
      ],
      "metadata": {
        "id": "VbBpODafH0Sj",
        "colab": {
          "base_uri": "https://localhost:8080/"
        },
        "outputId": "3ae64367-7ab0-4d60-9a62-36a097b39f67"
      },
      "execution_count": null,
      "outputs": [
        {
          "output_type": "stream",
          "name": "stdout",
          "text": [
            "vin : <empty>\n",
            "make : <empty>\n",
            "model : <empty>\n",
            "year : 0\n",
            "range : 0\n",
            "topSpeed : 0\n",
            "zeroSixty : 0.0\n",
            "mileage : 0\n"
          ]
        }
      ]
    },
    {
      "cell_type": "code",
      "source": [
        "myInventoryList = []\n"
      ],
      "metadata": {
        "id": "32uE9LDgH0QG"
      },
      "execution_count": null,
      "outputs": []
    },
    {
      "cell_type": "markdown",
      "source": [
        "Copying the CSV file into memory"
      ],
      "metadata": {
        "id": "CbShGHBPG33r"
      }
    },
    {
      "cell_type": "code",
      "source": [
        "import csv\n",
        "import copy\n",
        "\n",
        "myVehicle = {\n",
        "    \"vin\" : \"<empty>\",\n",
        "    \"make\" : \"<empty>\" ,\n",
        "    \"model\" : \"<empty>\" ,\n",
        "    \"year\" : 0,\n",
        "    \"range\" : 0,\n",
        "    \"topSpeed\" : 0,\n",
        "    \"zeroSixty\" : 0.0,\n",
        "    \"mileage\" : 0\n",
        "}\n",
        "\n",
        "for key, value in myVehicle.items():\n",
        "    print(\"{} : {}\".format(key,value))\n",
        "\n",
        "myInventoryList = []\n",
        "\n",
        "#WGET my csv file\n",
        "#!wget https://raw.githubusercontent.com/alnrosales/aws_restart/main/car_fleet.csv\n",
        "\n",
        "with open('/content/car_fleet.csv') as csvFile:\n",
        "    csvReader = csv.reader(csvFile, delimiter=',')  \n",
        "    lineCount = 0  \n",
        "    for row in csvReader:\n",
        "        if lineCount == 0:\n",
        "            print(f'Column names are: {\", \".join(row)}')  \n",
        "            lineCount += 1  \n",
        "        else:  \n",
        "            print(f'vin: {row[0]} make: {row[1]}, model: {row[2]}, year: {row[3]}, range: {row[4]}, topSpeed: {row[5]}, zeroSixty: {row[6]}, mileage: {row[7]}')  \n",
        "            currentVehicle = copy.deepcopy(myVehicle)  \n",
        "            currentVehicle[\"vin\"] = row[0]  \n",
        "            currentVehicle[\"make\"] = row[1]  \n",
        "            currentVehicle[\"model\"] = row[2]  \n",
        "            currentVehicle[\"year\"] = row[3]  \n",
        "            currentVehicle[\"range\"] = row[4]  \n",
        "            currentVehicle[\"topSpeed\"] = row[5]  \n",
        "            currentVehicle[\"zeroSixty\"] = row[6]  \n",
        "            currentVehicle[\"mileage\"] = row[7]  \n",
        "            myInventoryList.append(currentVehicle)  \n",
        "            lineCount += 1  \n",
        "    print(f'Processed {lineCount} lines.')\n",
        "    \n",
        "    for myCarProperties in myInventoryList:\n",
        "        for key, value in myCarProperties.items():\n",
        "            print(\"{} : {}\".format(key,value))\n",
        "            print(\"-----\")"
      ],
      "metadata": {
        "id": "QYhdGtKlH0Nu",
        "colab": {
          "base_uri": "https://localhost:8080/"
        },
        "outputId": "625d0652-edbf-4784-924d-9bfd80425365"
      },
      "execution_count": 45,
      "outputs": [
        {
          "output_type": "stream",
          "name": "stdout",
          "text": [
            "vin : <empty>\n",
            "make : <empty>\n",
            "model : <empty>\n",
            "year : 0\n",
            "range : 0\n",
            "topSpeed : 0\n",
            "zeroSixty : 0.0\n",
            "mileage : 0\n",
            "Column names are: vin, make, model, year, range, topSpeed, zeroSixty, mileage\n",
            "vin: TMX20122 make: AnyCompany Motors, model:  Coupe, year:  2012, range:  335, topSpeed:  155, zeroSixty:  4.1, mileage:  50000\n",
            "vin: TM320163 make: AnyCompany Motors, model:  Sedan, year:  2016, range:  240, topSpeed:  140, zeroSixty:  5.2, mileage:  20000\n",
            "vin: TMX20121 make: AnyCompany Motors, model:  SUV, year:  2012, range:  295, topSpeed:  155, zeroSixty:  4.7, mileage:  100000\n",
            "vin: TMX20204 make: AnyCompany Motors, model:  Truck, year:  2020, range:  300, topSpeed:  155, zeroSixty:  3.5, mileage:  0\n",
            "Processed 5 lines.\n",
            "vin : TMX20122\n",
            "-----\n",
            "make : AnyCompany Motors\n",
            "-----\n",
            "model :  Coupe\n",
            "-----\n",
            "year :  2012\n",
            "-----\n",
            "range :  335\n",
            "-----\n",
            "topSpeed :  155\n",
            "-----\n",
            "zeroSixty :  4.1\n",
            "-----\n",
            "mileage :  50000\n",
            "-----\n",
            "vin : TM320163\n",
            "-----\n",
            "make : AnyCompany Motors\n",
            "-----\n",
            "model :  Sedan\n",
            "-----\n",
            "year :  2016\n",
            "-----\n",
            "range :  240\n",
            "-----\n",
            "topSpeed :  140\n",
            "-----\n",
            "zeroSixty :  5.2\n",
            "-----\n",
            "mileage :  20000\n",
            "-----\n",
            "vin : TMX20121\n",
            "-----\n",
            "make : AnyCompany Motors\n",
            "-----\n",
            "model :  SUV\n",
            "-----\n",
            "year :  2012\n",
            "-----\n",
            "range :  295\n",
            "-----\n",
            "topSpeed :  155\n",
            "-----\n",
            "zeroSixty :  4.7\n",
            "-----\n",
            "mileage :  100000\n",
            "-----\n",
            "vin : TMX20204\n",
            "-----\n",
            "make : AnyCompany Motors\n",
            "-----\n",
            "model :  Truck\n",
            "-----\n",
            "year :  2020\n",
            "-----\n",
            "range :  300\n",
            "-----\n",
            "topSpeed :  155\n",
            "-----\n",
            "zeroSixty :  3.5\n",
            "-----\n",
            "mileage :  0\n",
            "-----\n"
          ]
        }
      ]
    },
    {
      "cell_type": "code",
      "source": [
        "!wget https://raw.githubusercontent.com/alnrosales/aws_restart/main/car_fleet.csv"
      ],
      "metadata": {
        "colab": {
          "base_uri": "https://localhost:8080/"
        },
        "id": "-lyITvca9JII",
        "outputId": "4bdbd7ab-6223-4617-be2f-1a8bdff3ec11"
      },
      "execution_count": 43,
      "outputs": [
        {
          "output_type": "stream",
          "name": "stdout",
          "text": [
            "--2022-05-13 10:26:47--  https://raw.githubusercontent.com/alnrosales/aws_restart/main/car_fleet.csv\n",
            "Resolving raw.githubusercontent.com (raw.githubusercontent.com)... 185.199.108.133, 185.199.109.133, 185.199.110.133, ...\n",
            "Connecting to raw.githubusercontent.com (raw.githubusercontent.com)|185.199.108.133|:443... connected.\n",
            "HTTP request sent, awaiting response... 200 OK\n",
            "Length: 295 [text/plain]\n",
            "Saving to: ‘car_fleet.csv’\n",
            "\n",
            "\rcar_fleet.csv         0%[                    ]       0  --.-KB/s               \rcar_fleet.csv       100%[===================>]     295  --.-KB/s    in 0s      \n",
            "\n",
            "2022-05-13 10:26:47 (13.9 MB/s) - ‘car_fleet.csv’ saved [295/295]\n",
            "\n"
          ]
        }
      ]
    },
    {
      "cell_type": "code",
      "source": [
        "example1 = \"/content/car_fleet.csv\"\n",
        "file1 = open(example1, \"r\")\n",
        "FileContent = file1.read()\n",
        "\n",
        "print(FileContent)"
      ],
      "metadata": {
        "colab": {
          "base_uri": "https://localhost:8080/"
        },
        "id": "T36faTDg73-A",
        "outputId": "98b686ea-c62a-4fbf-8616-ac80719aee1e"
      },
      "execution_count": 44,
      "outputs": [
        {
          "output_type": "stream",
          "name": "stdout",
          "text": [
            "vin,make,model,year,range,topSpeed,zeroSixty,mileage\n",
            "TMX20122,AnyCompany Motors, Coupe, 2012, 335, 155, 4.1, 50000\n",
            "TM320163,AnyCompany Motors, Sedan, 2016, 240, 140, 5.2, 20000\n",
            "TMX20121,AnyCompany Motors, SUV, 2012, 295, 155, 4.7, 100000\n",
            "TMX20204,AnyCompany Motors, Truck, 2020, 300, 155, 3.5, 0\n"
          ]
        }
      ]
    },
    {
      "cell_type": "markdown",
      "source": [
        "## **Working with the if statement**"
      ],
      "metadata": {
        "id": "H2LC58cuOK_P"
      }
    },
    {
      "cell_type": "code",
      "source": [
        "userReply = input(\"Do you need to ship a package? (Enter yes or no) \")"
      ],
      "metadata": {
        "id": "Q4efhlsOH0JC",
        "colab": {
          "base_uri": "https://localhost:8080/"
        },
        "outputId": "b5b65c33-abb3-459c-8355-850c19e8ed4a"
      },
      "execution_count": null,
      "outputs": [
        {
          "name": "stdout",
          "output_type": "stream",
          "text": [
            "Do you need to ship a package? (Enter yes or no) no\n"
          ]
        }
      ]
    },
    {
      "cell_type": "code",
      "source": [
        "if userReply == \"yes\":\n",
        "    print(\"We can help you ship that package!\")"
      ],
      "metadata": {
        "id": "rvK76sVOGhgL"
      },
      "execution_count": null,
      "outputs": []
    },
    {
      "cell_type": "markdown",
      "source": [
        "# **Working with the else statement**"
      ],
      "metadata": {
        "id": "U0z0V5TiOZYh"
      }
    },
    {
      "cell_type": "code",
      "source": [
        "userReply = input(\"Do you need to ship a package? (Enter yes or no) \")\n",
        "if userReply == \"yes\":\n",
        "    print(\"We can help you ship that package!\")\n",
        "else:\n",
        "    print(\"Please come back when you need to ship a package. Thank you.\")"
      ],
      "metadata": {
        "colab": {
          "base_uri": "https://localhost:8080/"
        },
        "id": "fWd3l4Y-Ghd0",
        "outputId": "e024825f-d202-4573-fa01-383a0c96ecb5"
      },
      "execution_count": null,
      "outputs": [
        {
          "output_type": "stream",
          "name": "stdout",
          "text": [
            "Do you need to ship a package? (Enter yes or no) no\n",
            "Please come back when you need to ship a package. Thank you.\n"
          ]
        }
      ]
    },
    {
      "cell_type": "markdown",
      "source": [
        "## **Working with the elif statement**"
      ],
      "metadata": {
        "id": "9fzLZpLjOuWh"
      }
    },
    {
      "cell_type": "code",
      "source": [
        "userReply = input(\"Would you like to buy stamps, buy an envelope, or make a copy? (Enter stamps, envelope, or copy) \")\n",
        "if userReply == \"stamps\":\n",
        "    print(\"We have many stamp designs to choose from.\")\n",
        "elif userReply == \"envelope\":\n",
        "    print(\"We have many envelope sizes to choose from.\")\n",
        "elif userReply == \"copy\":\n",
        "    copies = input(\"How many copies would you like? (Enter a number) \")\n",
        "    print(\"Here are {} copies.\".format(copies))\n",
        "else:\n",
        "    print(\"Thank you, please come again.\")"
      ],
      "metadata": {
        "colab": {
          "base_uri": "https://localhost:8080/"
        },
        "id": "fdHXVSzGGhbk",
        "outputId": "fb59f270-2e80-4a77-bd02-e691ace30905"
      },
      "execution_count": null,
      "outputs": [
        {
          "output_type": "stream",
          "name": "stdout",
          "text": [
            "Would you like to buy stamps, buy an envelope, or make a copy? (Enter stamps, envelope, or copy) copu\n",
            "Thank you, please come again.\n"
          ]
        }
      ]
    },
    {
      "cell_type": "markdown",
      "source": [
        "## **Working with a while loop**"
      ],
      "metadata": {
        "id": "AMsac-sIPCBL"
      }
    },
    {
      "cell_type": "code",
      "source": [
        "print(\"Welcome to Guess the Number!\")\n",
        "print(\"The rules are simple. I will think of a number, and you will try to guess it.\")"
      ],
      "metadata": {
        "colab": {
          "base_uri": "https://localhost:8080/"
        },
        "id": "n3uMSnJAGhZX",
        "outputId": "1da0377d-c516-4465-b14d-44e282cd1fbe"
      },
      "execution_count": null,
      "outputs": [
        {
          "output_type": "stream",
          "name": "stdout",
          "text": [
            "Welcome to Guess the Number!\n",
            "The rules are simple. I will think of a number, and you will try to guess it.\n"
          ]
        }
      ]
    },
    {
      "cell_type": "markdown",
      "source": [
        "Importing random and writing a while loop"
      ],
      "metadata": {
        "id": "nxoqzmliPQ09"
      }
    },
    {
      "cell_type": "code",
      "source": [
        "import random\n",
        "\n",
        "number = random.randint(1,10)\n",
        "isGuessRight = False\n",
        "\n",
        "while isGuessRight != True:\n",
        "    guess = input(\"Guess a number between 1 and 10: \")\n",
        "    if int(guess) == number:\n",
        "        print(\"You guessed {}. That is correct! You win!\".format(guess))\n",
        "        isGuessRight = True\n",
        "    else:\n",
        "        print(\"You guessed {}. Sorry, that isn’t it. Try again.\".format(guess))"
      ],
      "metadata": {
        "colab": {
          "base_uri": "https://localhost:8080/"
        },
        "id": "6iysA6T9PJp2",
        "outputId": "c87f2239-8e9a-48eb-b5a6-0ba310076869"
      },
      "execution_count": null,
      "outputs": [
        {
          "output_type": "stream",
          "name": "stdout",
          "text": [
            "Guess a number between 1 and 10: 7\n",
            "You guessed 7. Sorry, that isn’t it. Try again.\n",
            "Guess a number between 1 and 10: 6\n",
            "You guessed 6. Sorry, that isn’t it. Try again.\n",
            "Guess a number between 1 and 10: 5\n",
            "You guessed 5. Sorry, that isn’t it. Try again.\n",
            "Guess a number between 1 and 10: 9\n",
            "You guessed 9. Sorry, that isn’t it. Try again.\n",
            "Guess a number between 1 and 10: 1\n",
            "You guessed 1. Sorry, that isn’t it. Try again.\n",
            "Guess a number between 1 and 10: 2\n",
            "You guessed 2. Sorry, that isn’t it. Try again.\n",
            "Guess a number between 1 and 10: 3\n",
            "You guessed 3. Sorry, that isn’t it. Try again.\n",
            "Guess a number between 1 and 10: 4\n",
            "You guessed 4. Sorry, that isn’t it. Try again.\n",
            "Guess a number between 1 and 10: 5\n",
            "You guessed 5. Sorry, that isn’t it. Try again.\n",
            "Guess a number between 1 and 10: 6\n",
            "You guessed 6. Sorry, that isn’t it. Try again.\n",
            "Guess a number between 1 and 10: 9\n",
            "You guessed 9. Sorry, that isn’t it. Try again.\n",
            "Guess a number between 1 and 10: 10\n",
            "You guessed 10. Sorry, that isn’t it. Try again.\n",
            "Guess a number between 1 and 10: 9\n",
            "You guessed 9. Sorry, that isn’t it. Try again.\n",
            "Guess a number between 1 and 10: 7\n",
            "You guessed 7. Sorry, that isn’t it. Try again.\n",
            "Guess a number between 1 and 10: 8\n",
            "You guessed 8. That is correct! You win!\n"
          ]
        }
      ]
    },
    {
      "cell_type": "code",
      "source": [
        "print(\"Count to 10!\")\n",
        "for x in range (0, 11):\n",
        "    print(x)"
      ],
      "metadata": {
        "colab": {
          "base_uri": "https://localhost:8080/"
        },
        "id": "r2q64WulPJvN",
        "outputId": "dcc38ad8-1a8d-41a9-9e57-36bdfd6de07e"
      },
      "execution_count": null,
      "outputs": [
        {
          "output_type": "stream",
          "name": "stdout",
          "text": [
            "Count to 10!\n",
            "0\n",
            "1\n",
            "2\n",
            "3\n",
            "4\n",
            "5\n",
            "6\n",
            "7\n",
            "8\n",
            "9\n",
            "10\n"
          ]
        }
      ]
    },
    {
      "cell_type": "markdown",
      "source": [
        "## **Working with the String Sequence and Numeric Weight of Insulin in Python**"
      ],
      "metadata": {
        "id": "ufRubOrfXimJ"
      }
    },
    {
      "cell_type": "markdown",
      "source": [
        "Exercise 1: Assigning variables to the sequence elements of human insulin\n",
        "\n",
        "Exercise 3: Using print() to display sequences of human insulin to the console"
      ],
      "metadata": {
        "id": "NDWOwwqsYjp_"
      }
    },
    {
      "cell_type": "code",
      "source": [
        "# Store the human preproinsulin sequence in a variable called preproinsulin:\n",
        "preproInsulin = \"malwmrllpllallalwgpdpaaafvnqhlcgshlvealylvcgergffytpktr\" \\\n",
        "\"reaedlqvgqvelgggpgagslqplalegslqkrgiveqcctsicslyqlenycn\"\n",
        "\n",
        "# Store the remaining sequence elements of human insulin in variables:\n",
        "lsInsulin = \"malwmrllpllallalwgpdpaaa\"\n",
        "bInsulin = \"fvnqhlcgshlvealylvcgergffytpkt\"\n",
        "aInsulin = \"giveqcctsicslyqlenycn\"\n",
        "cInsulin = \"rreaedlqvgqvelgggpgagslqplalegslqkr\"\n",
        "\n",
        "insulin = bInsulin + aInsulin\n",
        "\n",
        "# Printing \"the sequence of human insulin\" to console using successive print() commands:\n",
        "print(\"The sequence of human preproinsulin:\")\n",
        "print(preproInsulin)\n",
        "\n",
        "# Printing to console using concatenated strings inside the print function (one-liner):\n",
        "print(\"The sequence of human insulin, chain a: \" + aInsulin)\n",
        "print(\"The sequence of human insulin, chain a:\", aInsulin)\n"
      ],
      "metadata": {
        "colab": {
          "base_uri": "https://localhost:8080/"
        },
        "id": "xlfS2PAqPJxg",
        "outputId": "96143f5e-48b2-483a-e003-54c7a5ab8cdf"
      },
      "execution_count": null,
      "outputs": [
        {
          "output_type": "stream",
          "name": "stdout",
          "text": [
            "The sequence of human preproinsulin:\n",
            "malwmrllpllallalwgpdpaaafvnqhlcgshlvealylvcgergffytpktrreaedlqvgqvelgggpgagslqplalegslqkrgiveqcctsicslyqlenycn\n",
            "The sequence of human insulin, chain a: giveqcctsicslyqlenycn\n",
            "The sequence of human insulin, chain a: giveqcctsicslyqlenycn\n"
          ]
        }
      ]
    },
    {
      "cell_type": "markdown",
      "source": [
        "Exercise 4: Calculating the rough molecular weight of human insulin using the given code"
      ],
      "metadata": {
        "id": "GDIPVcHOZLtu"
      }
    },
    {
      "cell_type": "code",
      "source": [
        "# Calculating the molecular weight of insulin  \n",
        "# Creating a list of the amino acid (AA) weights  \n",
        "aaWeights = {'A': 89.09, 'C': 121.16, 'D': 133.10, 'E': 147.13, 'F': 165.19,\n",
        "'G': 75.07, 'H': 155.16, 'I': 131.17, 'K': 146.19, 'L': 131.17, 'M': 149.21,\n",
        "'N': 132.12, 'P': 115.13, 'Q': 146.15, 'R': 174.20, 'S': 105.09, 'T': 119.12,\n",
        "'V': 117.15, 'W': 204.23, 'Y': 181.19}  \n",
        "# Count the number of each amino acids  \n",
        "aaCountInsulin = ({x: float(insulin.upper().count(x)) for x in ['A', 'C',\n",
        "'D', 'E', 'F', 'G', 'H', 'I', 'K', 'L', 'M', 'N', 'P', 'Q', 'R', 'S', 'T',\n",
        "'V', 'W', 'Y']})  \n",
        "# Multiply the count by the weights  \n",
        "molecularWeightInsulin = sum({x: (aaCountInsulin[x]*aaWeights[x]) for x in\n",
        "['A', 'C', 'D', 'E', 'F', 'G', 'H', 'I', 'K', 'L', 'M', 'N', 'P', 'Q', 'R',\n",
        "'S', 'T', 'V', 'W', 'Y']}.values())  \n",
        "print(\"The rough molecular weight of insulin: \" +\n",
        "str(molecularWeightInsulin))"
      ],
      "metadata": {
        "colab": {
          "base_uri": "https://localhost:8080/"
        },
        "id": "tBqHoaOIPJzy",
        "outputId": "646ef815-0b44-4b97-becd-ac227ca83c0c"
      },
      "execution_count": null,
      "outputs": [
        {
          "output_type": "stream",
          "name": "stdout",
          "text": [
            "The rough molecular weight of insulin: 6696.420000000001\n"
          ]
        }
      ]
    },
    {
      "cell_type": "code",
      "source": [
        "molecularWeightInsulinActual = 5807.63\n",
        "print(\"Error percentage: \" + str(((molecularWeightInsulin - molecularWeightInsulinActual)/molecularWeightInsulinActual)*100))"
      ],
      "metadata": {
        "colab": {
          "base_uri": "https://localhost:8080/"
        },
        "id": "JNsfH1aWPJ2a",
        "outputId": "06c8a52c-411e-41cb-8e58-822a2c15295a"
      },
      "execution_count": null,
      "outputs": [
        {
          "output_type": "stream",
          "name": "stdout",
          "text": [
            "Error percentage: 15.30383306099047\n"
          ]
        }
      ]
    },
    {
      "cell_type": "code",
      "source": [
        "from num2words import num2words\n",
        "\n",
        "# num2word in cardinal format \n",
        "num = input(\"Enter Number? \")\n",
        "print(num2words(num))\n"
      ],
      "metadata": {
        "colab": {
          "base_uri": "https://localhost:8080/"
        },
        "id": "-ir4VBSFGhRZ",
        "outputId": "57270348-2759-4194-ee45-7b0ae8c5dd74"
      },
      "execution_count": null,
      "outputs": [
        {
          "output_type": "stream",
          "name": "stdout",
          "text": [
            "Enter Number? 1000000\n",
            "one million\n"
          ]
        }
      ]
    },
    {
      "cell_type": "code",
      "source": [
        "!python --version"
      ],
      "metadata": {
        "colab": {
          "base_uri": "https://localhost:8080/"
        },
        "id": "2LdTCY2boIEz",
        "outputId": "a316e3c3-3bdd-4620-b576-e2839dc137d1"
      },
      "execution_count": null,
      "outputs": [
        {
          "output_type": "stream",
          "name": "stdout",
          "text": [
            "Python 3.7.13\n"
          ]
        }
      ]
    },
    {
      "cell_type": "markdown",
      "source": [
        "## **Calculating the Net Charge of Insulin by Using Python Lists and Loops**"
      ],
      "metadata": {
        "id": "RCw9ghMBpYCW"
      }
    },
    {
      "cell_type": "code",
      "source": [
        "# Python3.6  \n",
        "# Coding: utf-8  \n",
        "# Store the human preproinsulin sequence in a variable called preproinsulin:  \n",
        "preproInsulin = \"malwmrllpllallalwgpdpaaafvnqhlcgshlvealylvcgergffytpktrreaedlqvgqvelgggpgagslqplalegslqkrgiveqcctsicslyqlenycn\"  \n",
        "# Store the remaining sequence elements of human insulin in variables:  \n",
        "lsInsulin = \"malwmrllpllallalwgpdpaaa\"  \n",
        "bInsulin = \"fvnqhlcgshlvealylvcgergffytpkt\"  \n",
        "aInsulin = \"giveqcctsicslyqlenycn\"  \n",
        "cInsulin = \"rreaedlqvgqvelgggpgagslqplalegslqkr\"  \n",
        "insulin = bInsulin + aInsulin\n",
        "# Exercise 1: Assigning variables, lists, and dictionaries\n",
        "pKR = {'y':10.07,'c': 8.18,'k':10.53,'h':6.00,'r':12.48,'d':3.65,'e':4.25}\n",
        "# Exercise 2: Using count() to count the numbers of each amino acid\n",
        "seqCount = ({x: float(insulin.count(x)) for x in ['y','c','k','h','r','d','e']})\n",
        "# Exercise 3: Writing the net charge formula\n",
        "pH = 14\n",
        "while (pH <= 14):\n",
        "  netCharge = (\n",
        "      +(sum({x: ((seqCount[x]*(10**pKR[x]))/((10**pH)+(10**pKR[x]))) \n",
        "      for x in ['k','h','r']}.values()))\n",
        "      -(sum({x: ((seqCount[x]*(10**pH))/((10**pH)+(10**pKR[x]))) \n",
        "      for x in ['y','c','d','e']}.values())))\n",
        "print('{0:.2f}'.format(pH), netCharge)\n",
        "\n"
      ],
      "metadata": {
        "id": "aizF4zLtoK_U"
      },
      "execution_count": null,
      "outputs": []
    },
    {
      "cell_type": "markdown",
      "source": [
        "## **Using Functions to Implement a Caesar Cipher**"
      ],
      "metadata": {
        "id": "rocVVcABt2bE"
      }
    },
    {
      "cell_type": "markdown",
      "source": [
        "Exercise 1: Creating a user-defined function"
      ],
      "metadata": {
        "id": "KcF7bTp198Td"
      }
    },
    {
      "cell_type": "code",
      "source": [
        "def getDoubleAlphabet(alphabet):\n",
        "    doubleAlphabet = alphabet + alphabet\n",
        "    return doubleAlphabet"
      ],
      "metadata": {
        "id": "-7EuyyPi937H"
      },
      "execution_count": 47,
      "outputs": []
    },
    {
      "cell_type": "markdown",
      "source": [
        "Exercise 2: Encrypting a message"
      ],
      "metadata": {
        "id": "WRgxXdQn-C2m"
      }
    },
    {
      "cell_type": "code",
      "source": [
        "def getMessage():\n",
        "    stringToEncrypt = input(\"Please enter a message to encrypt: \")\n",
        "    return stringToEncrypt"
      ],
      "metadata": {
        "id": "q_5PQDqX934o"
      },
      "execution_count": 48,
      "outputs": []
    },
    {
      "cell_type": "markdown",
      "source": [
        "Exercise 3: Getting a cipher key"
      ],
      "metadata": {
        "id": "_A8lPwik-JLU"
      }
    },
    {
      "cell_type": "code",
      "source": [
        "def getCipherKey():\n",
        "    shiftAmount = input( \"Please enter a key (whole number from 1-25): \")\n",
        "    return shiftAmount\n"
      ],
      "metadata": {
        "id": "W4KMnuqU932H"
      },
      "execution_count": 49,
      "outputs": []
    },
    {
      "cell_type": "markdown",
      "source": [
        "Exercise 4: Encrypting a message"
      ],
      "metadata": {
        "id": "CeF7aSSm-Si5"
      }
    },
    {
      "cell_type": "code",
      "source": [
        "def encryptMessage(message, cipherKey, alphabet):\n",
        "    encryptedMessage = \"\"\n",
        "    uppercaseMessage = \"\"\n",
        "    uppercaseMessage = message.upper()\n",
        "    for currentCharacter in uppercaseMessage:\n",
        "        position = alphabet.find(currentCharacter)\n",
        "        newPosition = position + int(cipherKey)\n",
        "        if currentCharacter in alphabet:\n",
        "            encryptedMessage = encryptedMessage + alphabet[newPosition]\n",
        "        else:\n",
        "            encryptedMessage = encryptedMessage + currentCharacter\n",
        "    return encryptedMessage"
      ],
      "metadata": {
        "id": "eCBgwfsa93zy"
      },
      "execution_count": 50,
      "outputs": []
    },
    {
      "cell_type": "markdown",
      "source": [
        "Exercise 5: Decrypting a message"
      ],
      "metadata": {
        "id": "y--DLFZk-Zoc"
      }
    },
    {
      "cell_type": "code",
      "source": [
        "def decryptMessage(message, cipherKey, alphabet):\n",
        "    decryptKey = -1 * int(cipherKey)\n",
        "    return encryptMessage(message, decryptKey, alphabet)"
      ],
      "metadata": {
        "id": "4BvgBILx93xJ"
      },
      "execution_count": 51,
      "outputs": []
    },
    {
      "cell_type": "markdown",
      "source": [
        "Exercise 6: Creating a main function"
      ],
      "metadata": {
        "id": "07Ip7PbH-jkB"
      }
    },
    {
      "cell_type": "code",
      "source": [
        "def runCaesarCipherProgram():\n",
        "    myAlphabet=\"ABCDEFGHIJKLMNOPQRSTUVWXYZ\"\n",
        "    print(f'Alphabet: {myAlphabet}')\n",
        "    myAlphabet2 = getDoubleAlphabet(myAlphabet)\n",
        "    print(f'Alphabet2: {myAlphabet2}')\n",
        "    myMessage = getMessage()\n",
        "    print(myMessage)\n",
        "    myCipherKey = getCipherKey()\n",
        "    print(myCipherKey)\n",
        "    myEncryptedMessage = encryptMessage(myMessage, myCipherKey, myAlphabet2)\n",
        "    print(f'Encrypted Message: {myEncryptedMessage}')\n",
        "    myDecryptedMessage = decryptMessage(myEncryptedMessage, myCipherKey, myAlphabet2)\n",
        "    print(f'Decypted Message: {myDecryptedMessage}')"
      ],
      "metadata": {
        "id": "6PiWSn3p93ug"
      },
      "execution_count": 52,
      "outputs": []
    },
    {
      "cell_type": "markdown",
      "source": [
        "To call the function"
      ],
      "metadata": {
        "id": "hy-3CV_H-skS"
      }
    },
    {
      "cell_type": "code",
      "source": [
        "runCaesarCipherProgram()"
      ],
      "metadata": {
        "colab": {
          "base_uri": "https://localhost:8080/"
        },
        "id": "t60KtCHz93py",
        "outputId": "169d480a-5aaa-4f53-b458-6216c74af726"
      },
      "execution_count": 53,
      "outputs": [
        {
          "output_type": "stream",
          "name": "stdout",
          "text": [
            "Alphabet: ABCDEFGHIJKLMNOPQRSTUVWXYZ\n",
            "Alphabet2: ABCDEFGHIJKLMNOPQRSTUVWXYZABCDEFGHIJKLMNOPQRSTUVWXYZ\n",
            "Please enter a message to encrypt: Alistair\n",
            "Alistair\n",
            "Please enter a key (whole number from 1-25): 1\n",
            "1\n",
            "Encrypted Message: BMJTUBJS\n",
            "Decypted Message: ALISTAIR\n"
          ]
        }
      ]
    },
    {
      "cell_type": "code",
      "source": [
        ""
      ],
      "metadata": {
        "id": "ZvoCuBuA93ib"
      },
      "execution_count": null,
      "outputs": []
    },
    {
      "cell_type": "code",
      "source": [
        ""
      ],
      "metadata": {
        "id": "v5oh10BC93fB"
      },
      "execution_count": null,
      "outputs": []
    },
    {
      "cell_type": "code",
      "source": [
        ""
      ],
      "metadata": {
        "id": "3gHxgBl2t6Mw"
      },
      "execution_count": null,
      "outputs": []
    },
    {
      "cell_type": "code",
      "source": [
        ""
      ],
      "metadata": {
        "id": "LcmvENMEt6Jm"
      },
      "execution_count": null,
      "outputs": []
    },
    {
      "cell_type": "code",
      "source": [
        ""
      ],
      "metadata": {
        "id": "pWJNQbW3t6Gn"
      },
      "execution_count": null,
      "outputs": []
    },
    {
      "cell_type": "code",
      "source": [
        ""
      ],
      "metadata": {
        "id": "IFHtljR_t6ET"
      },
      "execution_count": null,
      "outputs": []
    },
    {
      "cell_type": "code",
      "source": [
        ""
      ],
      "metadata": {
        "id": "I-QAflqct6By"
      },
      "execution_count": null,
      "outputs": []
    },
    {
      "cell_type": "code",
      "source": [
        ""
      ],
      "metadata": {
        "id": "yamlRUiet5_J"
      },
      "execution_count": null,
      "outputs": []
    },
    {
      "cell_type": "code",
      "source": [
        ""
      ],
      "metadata": {
        "id": "IobzenxRt59I"
      },
      "execution_count": null,
      "outputs": []
    },
    {
      "cell_type": "code",
      "source": [
        ""
      ],
      "metadata": {
        "id": "kF7hhFOLt56V"
      },
      "execution_count": null,
      "outputs": []
    },
    {
      "cell_type": "code",
      "source": [
        ""
      ],
      "metadata": {
        "id": "uIjVGvR4t53O"
      },
      "execution_count": null,
      "outputs": []
    },
    {
      "cell_type": "code",
      "source": [
        ""
      ],
      "metadata": {
        "id": "onCpglERt505"
      },
      "execution_count": null,
      "outputs": []
    },
    {
      "cell_type": "code",
      "source": [
        ""
      ],
      "metadata": {
        "id": "cQKZozn6t5yZ"
      },
      "execution_count": null,
      "outputs": []
    },
    {
      "cell_type": "code",
      "source": [
        ""
      ],
      "metadata": {
        "id": "_LUVvKz0t5v4"
      },
      "execution_count": null,
      "outputs": []
    },
    {
      "cell_type": "code",
      "source": [
        ""
      ],
      "metadata": {
        "id": "b0qkWxg6t5tP"
      },
      "execution_count": null,
      "outputs": []
    }
  ]
}
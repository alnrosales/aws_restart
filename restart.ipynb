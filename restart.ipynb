{
  "nbformat": 4,
  "nbformat_minor": 0,
  "metadata": {
    "colab": {
      "name": "restart.ipynb",
      "provenance": [],
      "collapsed_sections": [],
      "authorship_tag": "ABX9TyM+jTWnc6WPdUQ0Cg49Yswq",
      "include_colab_link": true
    },
    "kernelspec": {
      "name": "python3",
      "display_name": "Python 3"
    },
    "language_info": {
      "name": "python"
    }
  },
  "cells": [
    {
      "cell_type": "markdown",
      "metadata": {
        "id": "view-in-github",
        "colab_type": "text"
      },
      "source": [
        "<a href=\"https://colab.research.google.com/github/alnrosales/aws_restart/blob/main/restart.ipynb\" target=\"_parent\"><img src=\"https://colab.research.google.com/assets/colab-badge.svg\" alt=\"Open In Colab\"/></a>"
      ]
    },
    {
      "cell_type": "markdown",
      "source": [
        "## **Writing your first Python program**"
      ],
      "metadata": {
        "id": "-51aD0cnRo5j"
      }
    },
    {
      "cell_type": "code",
      "source": [
        "print(\"Hello, World\")"
      ],
      "metadata": {
        "colab": {
          "base_uri": "https://localhost:8080/"
        },
        "id": "rDSSK2opRswL",
        "outputId": "ad971fc7-29c3-443d-b9ee-0b91cda0831d"
      },
      "execution_count": null,
      "outputs": [
        {
          "output_type": "stream",
          "name": "stdout",
          "text": [
            "Hello, World\n"
          ]
        }
      ]
    },
    {
      "cell_type": "markdown",
      "source": [
        "## **Working with Numeric Data Types**"
      ],
      "metadata": {
        "id": "BCobhUvfRxdT"
      }
    },
    {
      "cell_type": "markdown",
      "source": [
        "Adding"
      ],
      "metadata": {
        "id": "PVPt8lYFR0dE"
      }
    },
    {
      "cell_type": "code",
      "execution_count": null,
      "metadata": {
        "colab": {
          "base_uri": "https://localhost:8080/"
        },
        "id": "4mqIj46P1GKR",
        "outputId": "38a7e73f-e434-40d9-8cfb-d4ca9f8019f1"
      },
      "outputs": [
        {
          "output_type": "execute_result",
          "data": {
            "text/plain": [
              "4"
            ]
          },
          "metadata": {},
          "execution_count": 1
        }
      ],
      "source": [
        "2+2"
      ]
    },
    {
      "cell_type": "markdown",
      "source": [
        "Subtracting"
      ],
      "metadata": {
        "id": "olqoEr-yR2Gi"
      }
    },
    {
      "cell_type": "code",
      "source": [
        "4-2"
      ],
      "metadata": {
        "colab": {
          "base_uri": "https://localhost:8080/"
        },
        "id": "abX8APZg2CN8",
        "outputId": "8dd528da-8784-4b32-83d0-3467f3eab1a8"
      },
      "execution_count": null,
      "outputs": [
        {
          "output_type": "execute_result",
          "data": {
            "text/plain": [
              "2"
            ]
          },
          "metadata": {},
          "execution_count": 2
        }
      ]
    },
    {
      "cell_type": "markdown",
      "source": [
        "Multiplying"
      ],
      "metadata": {
        "id": "qsLF85HbR6GO"
      }
    },
    {
      "cell_type": "code",
      "source": [
        "2*2"
      ],
      "metadata": {
        "colab": {
          "base_uri": "https://localhost:8080/"
        },
        "id": "diS5b0GE2CWY",
        "outputId": "194ce2c8-cfe2-4f0a-b445-a28f73bc85bf"
      },
      "execution_count": null,
      "outputs": [
        {
          "output_type": "execute_result",
          "data": {
            "text/plain": [
              "4"
            ]
          },
          "metadata": {},
          "execution_count": 3
        }
      ]
    },
    {
      "cell_type": "markdown",
      "source": [
        "Dividing"
      ],
      "metadata": {
        "id": "T5I3GdcIR9yr"
      }
    },
    {
      "cell_type": "code",
      "source": [
        "4/2"
      ],
      "metadata": {
        "colab": {
          "base_uri": "https://localhost:8080/"
        },
        "id": "DWt8zQVx2CcE",
        "outputId": "10d3246c-d165-4607-b999-03809d9a44c4"
      },
      "execution_count": null,
      "outputs": [
        {
          "output_type": "execute_result",
          "data": {
            "text/plain": [
              "2.0"
            ]
          },
          "metadata": {},
          "execution_count": 4
        }
      ]
    },
    {
      "cell_type": "markdown",
      "source": [
        "Exiting the Python shell"
      ],
      "metadata": {
        "id": "sFAaxyr4SDB_"
      }
    },
    {
      "cell_type": "code",
      "source": [
        "quit()"
      ],
      "metadata": {
        "id": "2Sb_RSUySGKm"
      },
      "execution_count": null,
      "outputs": []
    },
    {
      "cell_type": "markdown",
      "source": [
        "## **Introducing the int data type**"
      ],
      "metadata": {
        "id": "q3uSPcAXSL-A"
      }
    },
    {
      "cell_type": "code",
      "source": [
        "print(\"Python has three numeric types: int, float, and complex\")"
      ],
      "metadata": {
        "colab": {
          "base_uri": "https://localhost:8080/"
        },
        "id": "gncsVbwR2Ceh",
        "outputId": "8582ba4c-a62c-4a98-a231-88ee6470ea65"
      },
      "execution_count": null,
      "outputs": [
        {
          "output_type": "stream",
          "name": "stdout",
          "text": [
            "Python has three numeric types: int, float, and complex\n"
          ]
        }
      ]
    },
    {
      "cell_type": "markdown",
      "source": [
        "Creating a variable"
      ],
      "metadata": {
        "id": "8EjM9J7OSYFY"
      }
    },
    {
      "cell_type": "code",
      "source": [
        "myValue = 1"
      ],
      "metadata": {
        "id": "UZ7AesqGSeDK"
      },
      "execution_count": null,
      "outputs": []
    },
    {
      "cell_type": "code",
      "source": [
        "print(myValue)"
      ],
      "metadata": {
        "id": "8lFeVfGpSgY2"
      },
      "execution_count": null,
      "outputs": []
    },
    {
      "cell_type": "code",
      "source": [
        "print(type(myValue))"
      ],
      "metadata": {
        "id": "a_pDpm_5SjMC"
      },
      "execution_count": null,
      "outputs": []
    },
    {
      "cell_type": "code",
      "source": [
        "print(str(myValue) + \" is of the data type \" + str(type(myValue)))"
      ],
      "metadata": {
        "id": "ut7cohzTSovO"
      },
      "execution_count": null,
      "outputs": []
    },
    {
      "cell_type": "code",
      "source": [
        "myValue = 1\n",
        "print(myValue)\n",
        "print(type(myValue))\n",
        "print(str(myValue) + \" is of the date type \" + str(type(myValue)))"
      ],
      "metadata": {
        "colab": {
          "base_uri": "https://localhost:8080/"
        },
        "id": "Bj_U3D0C65Ai",
        "outputId": "653d7c81-031b-4685-bde0-915c64e78d39"
      },
      "execution_count": null,
      "outputs": [
        {
          "output_type": "stream",
          "name": "stdout",
          "text": [
            "1\n",
            "<class 'int'>\n",
            "1 is of the date type <class 'int'>\n"
          ]
        }
      ]
    },
    {
      "cell_type": "markdown",
      "source": [
        "## **Introducing the float data type**"
      ],
      "metadata": {
        "id": "Ba5U7gAlSwa3"
      }
    },
    {
      "cell_type": "code",
      "source": [
        "myValue = 3.14\n",
        "print(myValue)\n",
        "print(type(myValue))\n",
        "print(str(myValue) + \" is of the data type \" + str(type(myValue)))"
      ],
      "metadata": {
        "colab": {
          "base_uri": "https://localhost:8080/"
        },
        "id": "xPQGj2CZS2LQ",
        "outputId": "c566ee03-961d-49e7-9d78-e8a73a8ebe1c"
      },
      "execution_count": null,
      "outputs": [
        {
          "output_type": "stream",
          "name": "stdout",
          "text": [
            "3.14\n",
            "<class 'float'>\n",
            "3.14 is of the data type <class 'float'>\n"
          ]
        }
      ]
    },
    {
      "cell_type": "markdown",
      "source": [
        "## **Introducing the complex data type**"
      ],
      "metadata": {
        "id": "AEmg8kpsS-Nb"
      }
    },
    {
      "cell_type": "code",
      "source": [
        "myValue = 5j\n",
        "print(myValue)\n",
        "print(type(myValue))\n",
        "print(str(myValue) + \" is of the data type \" + str(type(myValue)))"
      ],
      "metadata": {
        "id": "Jch2YUtdS9cc"
      },
      "execution_count": null,
      "outputs": []
    },
    {
      "cell_type": "markdown",
      "source": [
        "## **Introducing the bool data type**"
      ],
      "metadata": {
        "id": "39KJEC68TCPa"
      }
    },
    {
      "cell_type": "code",
      "source": [
        "myValue = True\n",
        "print(myValue)\n",
        "print(type(myValue))\n",
        "print(str(myValue) + \" is of the data type \" + str(type(myValue)))"
      ],
      "metadata": {
        "colab": {
          "base_uri": "https://localhost:8080/"
        },
        "id": "9L7hQfp4648S",
        "outputId": "dd548e61-976d-45d5-a1fc-a8ebd81bcda7"
      },
      "execution_count": null,
      "outputs": [
        {
          "output_type": "stream",
          "name": "stdout",
          "text": [
            "True\n",
            "<class 'bool'>\n",
            "True is of the data type <class 'bool'>\n"
          ]
        }
      ]
    },
    {
      "cell_type": "code",
      "source": [
        "myValue = False\n",
        "print(myValue)\n",
        "print(type(myValue))\n",
        "print(str(myValue) + \" is of the data type \" + str(type(myValue)))"
      ],
      "metadata": {
        "colab": {
          "base_uri": "https://localhost:8080/"
        },
        "id": "uXcgUdjs645p",
        "outputId": "865970e7-8491-4d9d-ccf8-7367eb7c81ce"
      },
      "execution_count": null,
      "outputs": [
        {
          "output_type": "stream",
          "name": "stdout",
          "text": [
            "False\n",
            "<class 'bool'>\n",
            "False is of the data type <class 'bool'>\n"
          ]
        }
      ]
    },
    {
      "cell_type": "markdown",
      "source": [
        "## **Introducing the string data type**"
      ],
      "metadata": {
        "id": "-S6ttTyQ8TGX"
      }
    },
    {
      "cell_type": "code",
      "source": [
        "myString = \"This is a string\"\n",
        "print(myString)"
      ],
      "metadata": {
        "colab": {
          "base_uri": "https://localhost:8080/"
        },
        "id": "pxjPgmPA9qba",
        "outputId": "1f23289c-b072-40c7-dd1f-d78ce9b1b2a7"
      },
      "execution_count": null,
      "outputs": [
        {
          "output_type": "stream",
          "name": "stdout",
          "text": [
            "This is a string\n"
          ]
        }
      ]
    },
    {
      "cell_type": "code",
      "source": [
        "print(type(myString))"
      ],
      "metadata": {
        "colab": {
          "base_uri": "https://localhost:8080/"
        },
        "id": "joeYC4Km9qY_",
        "outputId": "7db5617e-6fef-40ea-87ce-40e17c9575cc"
      },
      "execution_count": null,
      "outputs": [
        {
          "output_type": "stream",
          "name": "stdout",
          "text": [
            "<class 'str'>\n"
          ]
        }
      ]
    },
    {
      "cell_type": "code",
      "source": [
        "myValue = \"This is a String\"\n",
        "print(myValue)\n",
        "print(type(myValue))\n",
        "print(str(myValue) + \" is of the data type \" + str(type(myValue)))"
      ],
      "metadata": {
        "colab": {
          "base_uri": "https://localhost:8080/"
        },
        "id": "SMCnpvGT9qWm",
        "outputId": "48ae6bf2-5bd4-4418-a446-bb49c2ade810"
      },
      "execution_count": null,
      "outputs": [
        {
          "output_type": "stream",
          "name": "stdout",
          "text": [
            "This is a String\n",
            "<class 'str'>\n",
            "This is a String is of the data type <class 'str'>\n"
          ]
        }
      ]
    },
    {
      "cell_type": "markdown",
      "source": [
        "## **Working with string concatenation**"
      ],
      "metadata": {
        "id": "QHmLbLv_8IaP"
      }
    },
    {
      "cell_type": "code",
      "source": [
        "firstString = \"water\"\n",
        "secondString = \"fall\"\n",
        "thirdString = firstString + secondString\n",
        "print(thirdString)"
      ],
      "metadata": {
        "colab": {
          "base_uri": "https://localhost:8080/"
        },
        "id": "C5aULsNK9qPh",
        "outputId": "df7531ef-e129-414b-9074-df893e9ae2bc"
      },
      "execution_count": null,
      "outputs": [
        {
          "output_type": "stream",
          "name": "stdout",
          "text": [
            "waterfall\n"
          ]
        }
      ]
    },
    {
      "cell_type": "markdown",
      "source": [
        "## **Working with input strings**"
      ],
      "metadata": {
        "id": "XKzgsH6F8Czx"
      }
    },
    {
      "cell_type": "code",
      "source": [
        "name = input(\"What is your name? \")\n",
        "print(name)"
      ],
      "metadata": {
        "colab": {
          "base_uri": "https://localhost:8080/"
        },
        "id": "AyUQ_3qs9qM-",
        "outputId": "a2d98c13-650b-41f9-82fa-47591ea3151d"
      },
      "execution_count": null,
      "outputs": [
        {
          "output_type": "stream",
          "name": "stdout",
          "text": [
            "What is your name? Alistair\n",
            "Alistair\n"
          ]
        }
      ]
    },
    {
      "cell_type": "markdown",
      "source": [
        "## **Formating output strings**"
      ],
      "metadata": {
        "id": "pmRTu3Ue79hU"
      }
    },
    {
      "cell_type": "code",
      "source": [
        "color = input(\"What is your favorite color?  \")\n",
        "animal = input(\"What is your favorite animal?  \")\n",
        "print(\"{}, you like a {} {}!\".format(name,color,animal))"
      ],
      "metadata": {
        "colab": {
          "base_uri": "https://localhost:8080/"
        },
        "id": "OnRu7MUJ_Vc5",
        "outputId": "c7da8673-fa4b-4dde-c7c3-5ce18e6fe4d7"
      },
      "execution_count": null,
      "outputs": [
        {
          "output_type": "stream",
          "name": "stdout",
          "text": [
            "What is your favorite color?  blue\n",
            "What is your favorite animal?  lion\n",
            "Alistair, you like a blue lion!\n"
          ]
        }
      ]
    },
    {
      "cell_type": "markdown",
      "source": [
        "## **Defining a list**"
      ],
      "metadata": {
        "id": "yh9E82k772gk"
      }
    },
    {
      "cell_type": "code",
      "source": [
        "myFruitList = [\"apple\", \"banana\", \"cherry\"]\n",
        "print(myFruitList)\n",
        "print(type(myFruitList))"
      ],
      "metadata": {
        "colab": {
          "base_uri": "https://localhost:8080/"
        },
        "id": "fd1AUC3M_VaG",
        "outputId": "8ecb51e1-717a-4f6a-ee5a-c7bc28d2a21c"
      },
      "execution_count": null,
      "outputs": [
        {
          "output_type": "stream",
          "name": "stdout",
          "text": [
            "['apple', 'banana', 'cherry']\n",
            "<class 'list'>\n"
          ]
        }
      ]
    },
    {
      "cell_type": "markdown",
      "source": [
        "## **Accessing a list by position**"
      ],
      "metadata": {
        "id": "CjbEc_jl7uqe"
      }
    },
    {
      "cell_type": "code",
      "source": [
        "print(myFruitList[0])"
      ],
      "metadata": {
        "colab": {
          "base_uri": "https://localhost:8080/"
        },
        "id": "mbpsiW2e_VVc",
        "outputId": "8dacdb18-da64-4fbe-d02c-405b59c43302"
      },
      "execution_count": null,
      "outputs": [
        {
          "output_type": "stream",
          "name": "stdout",
          "text": [
            "apple\n"
          ]
        }
      ]
    },
    {
      "cell_type": "code",
      "source": [
        "print(myFruitList[1])\n"
      ],
      "metadata": {
        "colab": {
          "base_uri": "https://localhost:8080/"
        },
        "id": "bj8GnfMw_VTF",
        "outputId": "d5582a41-7641-40f6-fb60-4376eda71cdb"
      },
      "execution_count": null,
      "outputs": [
        {
          "output_type": "stream",
          "name": "stdout",
          "text": [
            "banana\n"
          ]
        }
      ]
    },
    {
      "cell_type": "code",
      "source": [
        "print(myFruitList[2])"
      ],
      "metadata": {
        "colab": {
          "base_uri": "https://localhost:8080/"
        },
        "id": "1GONjunn_VQk",
        "outputId": "1ae4f42f-9b10-4066-a367-b23c0b7685c4"
      },
      "execution_count": null,
      "outputs": [
        {
          "output_type": "stream",
          "name": "stdout",
          "text": [
            "cherry\n"
          ]
        }
      ]
    },
    {
      "cell_type": "markdown",
      "source": [
        "## **Changing the values in a list**"
      ],
      "metadata": {
        "id": "Cmh6YypIIRh8"
      }
    },
    {
      "cell_type": "code",
      "source": [
        "myFruitList[2] = \"orange\""
      ],
      "metadata": {
        "id": "abDV6J40_VOL"
      },
      "execution_count": null,
      "outputs": []
    },
    {
      "cell_type": "code",
      "source": [
        "print(myFruitList)"
      ],
      "metadata": {
        "colab": {
          "base_uri": "https://localhost:8080/"
        },
        "id": "cBUYQuTD_VLr",
        "outputId": "71cc97e0-eb2b-42b4-dfa8-e4714cc264d5"
      },
      "execution_count": null,
      "outputs": [
        {
          "output_type": "stream",
          "name": "stdout",
          "text": [
            "['apple', 'banana', 'orange']\n"
          ]
        }
      ]
    },
    {
      "cell_type": "markdown",
      "source": [
        "## **Defining a tuple**"
      ],
      "metadata": {
        "id": "4OcXbjjuH_p5"
      }
    },
    {
      "cell_type": "code",
      "source": [
        "myFinalAnswerTuple = (\"apple\", \"banana\", \"pineapple\")\n",
        "print(myFinalAnswerTuple)\n",
        "print(type(myFinalAnswerTuple))"
      ],
      "metadata": {
        "colab": {
          "base_uri": "https://localhost:8080/"
        },
        "id": "toRaH5Bj_VJW",
        "outputId": "15079239-5330-4827-8332-7d1b17f952de"
      },
      "execution_count": null,
      "outputs": [
        {
          "output_type": "stream",
          "name": "stdout",
          "text": [
            "('apple', 'banana', 'pineapple')\n",
            "<class 'tuple'>\n"
          ]
        }
      ]
    },
    {
      "cell_type": "markdown",
      "source": [
        "## **Accessing a tuple by position**"
      ],
      "metadata": {
        "id": "62QAYUhQH5nq"
      }
    },
    {
      "cell_type": "code",
      "source": [
        "print(myFinalAnswerTuple[0])"
      ],
      "metadata": {
        "colab": {
          "base_uri": "https://localhost:8080/"
        },
        "id": "-g7CZIFm_VGr",
        "outputId": "c465eb95-3c7b-4f35-fde4-ee6cb0767860"
      },
      "execution_count": null,
      "outputs": [
        {
          "output_type": "stream",
          "name": "stdout",
          "text": [
            "apple\n"
          ]
        }
      ]
    },
    {
      "cell_type": "code",
      "source": [
        "print(myFinalAnswerTuple[1])"
      ],
      "metadata": {
        "colab": {
          "base_uri": "https://localhost:8080/"
        },
        "id": "Y-2eK2aXHGJf",
        "outputId": "10ac5d67-248e-42ea-ce22-1670fada3f41"
      },
      "execution_count": null,
      "outputs": [
        {
          "output_type": "stream",
          "name": "stdout",
          "text": [
            "banana\n"
          ]
        }
      ]
    },
    {
      "cell_type": "code",
      "source": [
        "print(myFinalAnswerTuple[2])"
      ],
      "metadata": {
        "colab": {
          "base_uri": "https://localhost:8080/"
        },
        "id": "GnhhnIopHGG-",
        "outputId": "f1634f01-d722-4bbc-e722-aac36646babe"
      },
      "execution_count": null,
      "outputs": [
        {
          "output_type": "stream",
          "name": "stdout",
          "text": [
            "pineapple\n"
          ]
        }
      ]
    },
    {
      "cell_type": "markdown",
      "source": [
        "## **Defining a Dictionary**"
      ],
      "metadata": {
        "id": "jTOZcEQTHYIq"
      }
    },
    {
      "cell_type": "code",
      "source": [
        "myFavoriteFruitDictionary = {\n",
        "  \"Akua\" : \"apple\",\n",
        "  \"Saanvi\" : \"banana\",\n",
        "  \"Paulo\" : \"pineapple\"\n",
        "}"
      ],
      "metadata": {
        "id": "nLuOv5tYHGDr"
      },
      "execution_count": null,
      "outputs": []
    },
    {
      "cell_type": "code",
      "source": [
        "print(myFavoriteFruitDictionary)"
      ],
      "metadata": {
        "colab": {
          "base_uri": "https://localhost:8080/"
        },
        "id": "HZAR8dlbHF_r",
        "outputId": "ba74ece6-2fc9-4b63-e08d-3ed37ae45b70"
      },
      "execution_count": null,
      "outputs": [
        {
          "output_type": "stream",
          "name": "stdout",
          "text": [
            "{'Akua': 'apple', 'Saanvi': 'banana', 'Paulo': 'pineapple'}\n"
          ]
        }
      ]
    },
    {
      "cell_type": "code",
      "source": [
        "print(type(myFavoriteFruitDictionary))"
      ],
      "metadata": {
        "colab": {
          "base_uri": "https://localhost:8080/"
        },
        "id": "0EmCr4DqHF8u",
        "outputId": "8e9dc498-419f-4584-d198-c86c32de5bbe"
      },
      "execution_count": null,
      "outputs": [
        {
          "output_type": "stream",
          "name": "stdout",
          "text": [
            "<class 'dict'>\n"
          ]
        }
      ]
    },
    {
      "cell_type": "markdown",
      "source": [
        "## **Accessing a dictionary by name**"
      ],
      "metadata": {
        "id": "MgwvKC19HtzP"
      }
    },
    {
      "cell_type": "code",
      "source": [
        "print(myFavoriteFruitDictionary[\"Akua\"])"
      ],
      "metadata": {
        "colab": {
          "base_uri": "https://localhost:8080/"
        },
        "id": "fmFR-sjHHF6V",
        "outputId": "02a027b4-dd60-4773-a2b3-8fcf09cb47bb"
      },
      "execution_count": null,
      "outputs": [
        {
          "output_type": "stream",
          "name": "stdout",
          "text": [
            "apple\n"
          ]
        }
      ]
    },
    {
      "cell_type": "code",
      "source": [
        "print(myFavoriteFruitDictionary[\"Saanvi\"])"
      ],
      "metadata": {
        "colab": {
          "base_uri": "https://localhost:8080/"
        },
        "id": "kHJxFnYZHF3M",
        "outputId": "1acafc96-29e4-46bd-ea30-0f18b849f6b7"
      },
      "execution_count": null,
      "outputs": [
        {
          "output_type": "stream",
          "name": "stdout",
          "text": [
            "banana\n"
          ]
        }
      ]
    },
    {
      "cell_type": "code",
      "source": [
        "print(myFavoriteFruitDictionary[\"Paulo\"])"
      ],
      "metadata": {
        "colab": {
          "base_uri": "https://localhost:8080/"
        },
        "id": "WdzofKx4HFss",
        "outputId": "e2eef073-14e0-4f7b-ef46-5587d2648da9"
      },
      "execution_count": null,
      "outputs": [
        {
          "output_type": "stream",
          "name": "stdout",
          "text": [
            "pineapple\n"
          ]
        }
      ]
    },
    {
      "cell_type": "markdown",
      "source": [
        "## **Creating a mixed-type list**"
      ],
      "metadata": {
        "id": "3574JtBh8oqf"
      }
    },
    {
      "cell_type": "code",
      "source": [
        "myMixedTypeList = [45, 290578, 1.02, True, \"My dog is on the bed.\", \"45\"]"
      ],
      "metadata": {
        "id": "xWu9E5T1H0ca"
      },
      "execution_count": null,
      "outputs": []
    },
    {
      "cell_type": "code",
      "source": [
        "for item in myMixedTypeList:\n",
        "    print(\"{} is of the data type {}\".format(item,type(item)))\n"
      ],
      "metadata": {
        "id": "eP4XXTksH0Zs",
        "colab": {
          "base_uri": "https://localhost:8080/"
        },
        "outputId": "d5681abd-33a6-4fd6-db15-2353ddeaf645"
      },
      "execution_count": null,
      "outputs": [
        {
          "output_type": "stream",
          "name": "stdout",
          "text": [
            "45 is of the data type <class 'int'>\n",
            "290578 is of the data type <class 'int'>\n",
            "1.02 is of the data type <class 'float'>\n",
            "True is of the data type <class 'bool'>\n",
            "My dog is on the bed. is of the data type <class 'str'>\n",
            "45 is of the data type <class 'str'>\n"
          ]
        }
      ]
    },
    {
      "cell_type": "markdown",
      "source": [
        "## **Creating a car inventory program**"
      ],
      "metadata": {
        "id": "1w0165F0F-R0"
      }
    },
    {
      "cell_type": "markdown",
      "source": [
        "Defining the dictionary"
      ],
      "metadata": {
        "id": "6Inbm5kDGG3p"
      }
    },
    {
      "cell_type": "code",
      "source": [
        "import csv\n",
        "import copy"
      ],
      "metadata": {
        "id": "vGSkL6VqH0XZ"
      },
      "execution_count": null,
      "outputs": []
    },
    {
      "cell_type": "code",
      "source": [
        "myVehicle = {\n",
        "    \"vin\" : \"<empty>\",\n",
        "    \"make\" : \"<empty>\" ,\n",
        "    \"model\" : \"<empty>\" ,\n",
        "    \"year\" : 0,\n",
        "    \"range\" : 0,\n",
        "    \"topSpeed\" : 0,\n",
        "    \"zeroSixty\" : 0.0,\n",
        "    \"mileage\" : 0\n",
        "}\n"
      ],
      "metadata": {
        "id": "1PEo2K_WH0U2"
      },
      "execution_count": null,
      "outputs": []
    },
    {
      "cell_type": "code",
      "source": [
        "for key, value in myVehicle.items():\n",
        "    print(\"{} : {}\".format(key,value))"
      ],
      "metadata": {
        "id": "VbBpODafH0Sj",
        "colab": {
          "base_uri": "https://localhost:8080/"
        },
        "outputId": "3ae64367-7ab0-4d60-9a62-36a097b39f67"
      },
      "execution_count": null,
      "outputs": [
        {
          "output_type": "stream",
          "name": "stdout",
          "text": [
            "vin : <empty>\n",
            "make : <empty>\n",
            "model : <empty>\n",
            "year : 0\n",
            "range : 0\n",
            "topSpeed : 0\n",
            "zeroSixty : 0.0\n",
            "mileage : 0\n"
          ]
        }
      ]
    },
    {
      "cell_type": "code",
      "source": [
        "myInventoryList = []\n"
      ],
      "metadata": {
        "id": "32uE9LDgH0QG"
      },
      "execution_count": null,
      "outputs": []
    },
    {
      "cell_type": "markdown",
      "source": [
        "Copying the CSV file into memory"
      ],
      "metadata": {
        "id": "CbShGHBPG33r"
      }
    },
    {
      "cell_type": "code",
      "source": [
        "import csv\n",
        "import copy\n",
        "\n",
        "myVehicle = {\n",
        "    \"vin\" : \"<empty>\",\n",
        "    \"make\" : \"<empty>\" ,\n",
        "    \"model\" : \"<empty>\" ,\n",
        "    \"year\" : 0,\n",
        "    \"range\" : 0,\n",
        "    \"topSpeed\" : 0,\n",
        "    \"zeroSixty\" : 0.0,\n",
        "    \"mileage\" : 0\n",
        "}\n",
        "\n",
        "for key, value in myVehicle.items():\n",
        "    print(\"{} : {}\".format(key,value))\n",
        "\n",
        "myInventoryList = []\n",
        "\n",
        "#WGET my csv file\n",
        "#!wget https://raw.githubusercontent.com/alnrosales/aws_restart/main/car_fleet.csv\n",
        "\n",
        "with open('/content/car_fleet.csv') as csvFile:\n",
        "    csvReader = csv.reader(csvFile, delimiter=',')  \n",
        "    lineCount = 0  \n",
        "    for row in csvReader:\n",
        "        if lineCount == 0:\n",
        "            print(f'Column names are: {\", \".join(row)}')  \n",
        "            lineCount += 1  \n",
        "        else:  \n",
        "            print(f'vin: {row[0]} make: {row[1]}, model: {row[2]}, year: {row[3]}, range: {row[4]}, topSpeed: {row[5]}, zeroSixty: {row[6]}, mileage: {row[7]}')  \n",
        "            currentVehicle = copy.deepcopy(myVehicle)  \n",
        "            currentVehicle[\"vin\"] = row[0]  \n",
        "            currentVehicle[\"make\"] = row[1]  \n",
        "            currentVehicle[\"model\"] = row[2]  \n",
        "            currentVehicle[\"year\"] = row[3]  \n",
        "            currentVehicle[\"range\"] = row[4]  \n",
        "            currentVehicle[\"topSpeed\"] = row[5]  \n",
        "            currentVehicle[\"zeroSixty\"] = row[6]  \n",
        "            currentVehicle[\"mileage\"] = row[7]  \n",
        "            myInventoryList.append(currentVehicle)  \n",
        "            lineCount += 1  \n",
        "    print(f'Processed {lineCount} lines.')\n",
        "    \n",
        "    for myCarProperties in myInventoryList:\n",
        "        for key, value in myCarProperties.items():\n",
        "            print(\"{} : {}\".format(key,value))\n",
        "            print(\"-----\")"
      ],
      "metadata": {
        "id": "QYhdGtKlH0Nu",
        "colab": {
          "base_uri": "https://localhost:8080/"
        },
        "outputId": "625d0652-edbf-4784-924d-9bfd80425365"
      },
      "execution_count": null,
      "outputs": [
        {
          "output_type": "stream",
          "name": "stdout",
          "text": [
            "vin : <empty>\n",
            "make : <empty>\n",
            "model : <empty>\n",
            "year : 0\n",
            "range : 0\n",
            "topSpeed : 0\n",
            "zeroSixty : 0.0\n",
            "mileage : 0\n",
            "Column names are: vin, make, model, year, range, topSpeed, zeroSixty, mileage\n",
            "vin: TMX20122 make: AnyCompany Motors, model:  Coupe, year:  2012, range:  335, topSpeed:  155, zeroSixty:  4.1, mileage:  50000\n",
            "vin: TM320163 make: AnyCompany Motors, model:  Sedan, year:  2016, range:  240, topSpeed:  140, zeroSixty:  5.2, mileage:  20000\n",
            "vin: TMX20121 make: AnyCompany Motors, model:  SUV, year:  2012, range:  295, topSpeed:  155, zeroSixty:  4.7, mileage:  100000\n",
            "vin: TMX20204 make: AnyCompany Motors, model:  Truck, year:  2020, range:  300, topSpeed:  155, zeroSixty:  3.5, mileage:  0\n",
            "Processed 5 lines.\n",
            "vin : TMX20122\n",
            "-----\n",
            "make : AnyCompany Motors\n",
            "-----\n",
            "model :  Coupe\n",
            "-----\n",
            "year :  2012\n",
            "-----\n",
            "range :  335\n",
            "-----\n",
            "topSpeed :  155\n",
            "-----\n",
            "zeroSixty :  4.1\n",
            "-----\n",
            "mileage :  50000\n",
            "-----\n",
            "vin : TM320163\n",
            "-----\n",
            "make : AnyCompany Motors\n",
            "-----\n",
            "model :  Sedan\n",
            "-----\n",
            "year :  2016\n",
            "-----\n",
            "range :  240\n",
            "-----\n",
            "topSpeed :  140\n",
            "-----\n",
            "zeroSixty :  5.2\n",
            "-----\n",
            "mileage :  20000\n",
            "-----\n",
            "vin : TMX20121\n",
            "-----\n",
            "make : AnyCompany Motors\n",
            "-----\n",
            "model :  SUV\n",
            "-----\n",
            "year :  2012\n",
            "-----\n",
            "range :  295\n",
            "-----\n",
            "topSpeed :  155\n",
            "-----\n",
            "zeroSixty :  4.7\n",
            "-----\n",
            "mileage :  100000\n",
            "-----\n",
            "vin : TMX20204\n",
            "-----\n",
            "make : AnyCompany Motors\n",
            "-----\n",
            "model :  Truck\n",
            "-----\n",
            "year :  2020\n",
            "-----\n",
            "range :  300\n",
            "-----\n",
            "topSpeed :  155\n",
            "-----\n",
            "zeroSixty :  3.5\n",
            "-----\n",
            "mileage :  0\n",
            "-----\n"
          ]
        }
      ]
    },
    {
      "cell_type": "code",
      "source": [
        "!wget https://raw.githubusercontent.com/alnrosales/aws_restart/main/car_fleet.csv"
      ],
      "metadata": {
        "colab": {
          "base_uri": "https://localhost:8080/"
        },
        "id": "-lyITvca9JII",
        "outputId": "4bdbd7ab-6223-4617-be2f-1a8bdff3ec11"
      },
      "execution_count": null,
      "outputs": [
        {
          "output_type": "stream",
          "name": "stdout",
          "text": [
            "--2022-05-13 10:26:47--  https://raw.githubusercontent.com/alnrosales/aws_restart/main/car_fleet.csv\n",
            "Resolving raw.githubusercontent.com (raw.githubusercontent.com)... 185.199.108.133, 185.199.109.133, 185.199.110.133, ...\n",
            "Connecting to raw.githubusercontent.com (raw.githubusercontent.com)|185.199.108.133|:443... connected.\n",
            "HTTP request sent, awaiting response... 200 OK\n",
            "Length: 295 [text/plain]\n",
            "Saving to: ‘car_fleet.csv’\n",
            "\n",
            "\rcar_fleet.csv         0%[                    ]       0  --.-KB/s               \rcar_fleet.csv       100%[===================>]     295  --.-KB/s    in 0s      \n",
            "\n",
            "2022-05-13 10:26:47 (13.9 MB/s) - ‘car_fleet.csv’ saved [295/295]\n",
            "\n"
          ]
        }
      ]
    },
    {
      "cell_type": "code",
      "source": [
        "example1 = \"/content/car_fleet.csv\"\n",
        "file1 = open(example1, \"r\")\n",
        "FileContent = file1.read()\n",
        "\n",
        "print(FileContent)"
      ],
      "metadata": {
        "colab": {
          "base_uri": "https://localhost:8080/"
        },
        "id": "T36faTDg73-A",
        "outputId": "98b686ea-c62a-4fbf-8616-ac80719aee1e"
      },
      "execution_count": null,
      "outputs": [
        {
          "output_type": "stream",
          "name": "stdout",
          "text": [
            "vin,make,model,year,range,topSpeed,zeroSixty,mileage\n",
            "TMX20122,AnyCompany Motors, Coupe, 2012, 335, 155, 4.1, 50000\n",
            "TM320163,AnyCompany Motors, Sedan, 2016, 240, 140, 5.2, 20000\n",
            "TMX20121,AnyCompany Motors, SUV, 2012, 295, 155, 4.7, 100000\n",
            "TMX20204,AnyCompany Motors, Truck, 2020, 300, 155, 3.5, 0\n"
          ]
        }
      ]
    },
    {
      "cell_type": "markdown",
      "source": [
        "## **Working with the if statement**"
      ],
      "metadata": {
        "id": "H2LC58cuOK_P"
      }
    },
    {
      "cell_type": "code",
      "source": [
        "userReply = input(\"Do you need to ship a package? (Enter yes or no) \")"
      ],
      "metadata": {
        "id": "Q4efhlsOH0JC",
        "colab": {
          "base_uri": "https://localhost:8080/"
        },
        "outputId": "b5b65c33-abb3-459c-8355-850c19e8ed4a"
      },
      "execution_count": null,
      "outputs": [
        {
          "name": "stdout",
          "output_type": "stream",
          "text": [
            "Do you need to ship a package? (Enter yes or no) no\n"
          ]
        }
      ]
    },
    {
      "cell_type": "code",
      "source": [
        "if userReply == \"yes\":\n",
        "    print(\"We can help you ship that package!\")"
      ],
      "metadata": {
        "id": "rvK76sVOGhgL"
      },
      "execution_count": null,
      "outputs": []
    },
    {
      "cell_type": "markdown",
      "source": [
        "# **Working with the else statement**"
      ],
      "metadata": {
        "id": "U0z0V5TiOZYh"
      }
    },
    {
      "cell_type": "code",
      "source": [
        "userReply = input(\"Do you need to ship a package? (Enter yes or no) \")\n",
        "if userReply == \"yes\":\n",
        "    print(\"We can help you ship that package!\")\n",
        "else:\n",
        "    print(\"Please come back when you need to ship a package. Thank you.\")"
      ],
      "metadata": {
        "colab": {
          "base_uri": "https://localhost:8080/"
        },
        "id": "fWd3l4Y-Ghd0",
        "outputId": "e024825f-d202-4573-fa01-383a0c96ecb5"
      },
      "execution_count": null,
      "outputs": [
        {
          "output_type": "stream",
          "name": "stdout",
          "text": [
            "Do you need to ship a package? (Enter yes or no) no\n",
            "Please come back when you need to ship a package. Thank you.\n"
          ]
        }
      ]
    },
    {
      "cell_type": "markdown",
      "source": [
        "## **Working with the elif statement**"
      ],
      "metadata": {
        "id": "9fzLZpLjOuWh"
      }
    },
    {
      "cell_type": "code",
      "source": [
        "userReply = input(\"Would you like to buy stamps, buy an envelope, or make a copy? (Enter stamps, envelope, or copy) \")\n",
        "if userReply == \"stamps\":\n",
        "    print(\"We have many stamp designs to choose from.\")\n",
        "elif userReply == \"envelope\":\n",
        "    print(\"We have many envelope sizes to choose from.\")\n",
        "elif userReply == \"copy\":\n",
        "    copies = input(\"How many copies would you like? (Enter a number) \")\n",
        "    print(\"Here are {} copies.\".format(copies))\n",
        "else:\n",
        "    print(\"Thank you, please come again.\")"
      ],
      "metadata": {
        "colab": {
          "base_uri": "https://localhost:8080/"
        },
        "id": "fdHXVSzGGhbk",
        "outputId": "fb59f270-2e80-4a77-bd02-e691ace30905"
      },
      "execution_count": null,
      "outputs": [
        {
          "output_type": "stream",
          "name": "stdout",
          "text": [
            "Would you like to buy stamps, buy an envelope, or make a copy? (Enter stamps, envelope, or copy) copu\n",
            "Thank you, please come again.\n"
          ]
        }
      ]
    },
    {
      "cell_type": "markdown",
      "source": [
        "## **Working with a while loop**"
      ],
      "metadata": {
        "id": "AMsac-sIPCBL"
      }
    },
    {
      "cell_type": "code",
      "source": [
        "print(\"Welcome to Guess the Number!\")\n",
        "print(\"The rules are simple. I will think of a number, and you will try to guess it.\")"
      ],
      "metadata": {
        "colab": {
          "base_uri": "https://localhost:8080/"
        },
        "id": "n3uMSnJAGhZX",
        "outputId": "1da0377d-c516-4465-b14d-44e282cd1fbe"
      },
      "execution_count": null,
      "outputs": [
        {
          "output_type": "stream",
          "name": "stdout",
          "text": [
            "Welcome to Guess the Number!\n",
            "The rules are simple. I will think of a number, and you will try to guess it.\n"
          ]
        }
      ]
    },
    {
      "cell_type": "markdown",
      "source": [
        "Importing random and writing a while loop"
      ],
      "metadata": {
        "id": "nxoqzmliPQ09"
      }
    },
    {
      "cell_type": "code",
      "source": [
        "import random\n",
        "\n",
        "number = random.randint(1,10)\n",
        "isGuessRight = False\n",
        "\n",
        "while isGuessRight != True:\n",
        "    guess = input(\"Guess a number between 1 and 10: \")\n",
        "    if int(guess) == number:\n",
        "        print(\"You guessed {}. That is correct! You win!\".format(guess))\n",
        "        isGuessRight = True\n",
        "    else:\n",
        "        print(\"You guessed {}. Sorry, that isn’t it. Try again.\".format(guess))"
      ],
      "metadata": {
        "colab": {
          "base_uri": "https://localhost:8080/"
        },
        "id": "6iysA6T9PJp2",
        "outputId": "c87f2239-8e9a-48eb-b5a6-0ba310076869"
      },
      "execution_count": null,
      "outputs": [
        {
          "output_type": "stream",
          "name": "stdout",
          "text": [
            "Guess a number between 1 and 10: 7\n",
            "You guessed 7. Sorry, that isn’t it. Try again.\n",
            "Guess a number between 1 and 10: 6\n",
            "You guessed 6. Sorry, that isn’t it. Try again.\n",
            "Guess a number between 1 and 10: 5\n",
            "You guessed 5. Sorry, that isn’t it. Try again.\n",
            "Guess a number between 1 and 10: 9\n",
            "You guessed 9. Sorry, that isn’t it. Try again.\n",
            "Guess a number between 1 and 10: 1\n",
            "You guessed 1. Sorry, that isn’t it. Try again.\n",
            "Guess a number between 1 and 10: 2\n",
            "You guessed 2. Sorry, that isn’t it. Try again.\n",
            "Guess a number between 1 and 10: 3\n",
            "You guessed 3. Sorry, that isn’t it. Try again.\n",
            "Guess a number between 1 and 10: 4\n",
            "You guessed 4. Sorry, that isn’t it. Try again.\n",
            "Guess a number between 1 and 10: 5\n",
            "You guessed 5. Sorry, that isn’t it. Try again.\n",
            "Guess a number between 1 and 10: 6\n",
            "You guessed 6. Sorry, that isn’t it. Try again.\n",
            "Guess a number between 1 and 10: 9\n",
            "You guessed 9. Sorry, that isn’t it. Try again.\n",
            "Guess a number between 1 and 10: 10\n",
            "You guessed 10. Sorry, that isn’t it. Try again.\n",
            "Guess a number between 1 and 10: 9\n",
            "You guessed 9. Sorry, that isn’t it. Try again.\n",
            "Guess a number between 1 and 10: 7\n",
            "You guessed 7. Sorry, that isn’t it. Try again.\n",
            "Guess a number between 1 and 10: 8\n",
            "You guessed 8. That is correct! You win!\n"
          ]
        }
      ]
    },
    {
      "cell_type": "code",
      "source": [
        "print(\"Count to 10!\")\n",
        "for x in range (0, 11):\n",
        "    print(x)"
      ],
      "metadata": {
        "colab": {
          "base_uri": "https://localhost:8080/"
        },
        "id": "r2q64WulPJvN",
        "outputId": "dcc38ad8-1a8d-41a9-9e57-36bdfd6de07e"
      },
      "execution_count": null,
      "outputs": [
        {
          "output_type": "stream",
          "name": "stdout",
          "text": [
            "Count to 10!\n",
            "0\n",
            "1\n",
            "2\n",
            "3\n",
            "4\n",
            "5\n",
            "6\n",
            "7\n",
            "8\n",
            "9\n",
            "10\n"
          ]
        }
      ]
    },
    {
      "cell_type": "markdown",
      "source": [
        "## **Working with the String Sequence and Numeric Weight of Insulin in Python**"
      ],
      "metadata": {
        "id": "ufRubOrfXimJ"
      }
    },
    {
      "cell_type": "markdown",
      "source": [
        "Exercise 1: Assigning variables to the sequence elements of human insulin\n",
        "\n",
        "Exercise 3: Using print() to display sequences of human insulin to the console"
      ],
      "metadata": {
        "id": "NDWOwwqsYjp_"
      }
    },
    {
      "cell_type": "code",
      "source": [
        "# Store the human preproinsulin sequence in a variable called preproinsulin:\n",
        "preproInsulin = \"malwmrllpllallalwgpdpaaafvnqhlcgshlvealylvcgergffytpktr\" \\\n",
        "\"reaedlqvgqvelgggpgagslqplalegslqkrgiveqcctsicslyqlenycn\"\n",
        "\n",
        "# Store the remaining sequence elements of human insulin in variables:\n",
        "lsInsulin = \"malwmrllpllallalwgpdpaaa\"\n",
        "bInsulin = \"fvnqhlcgshlvealylvcgergffytpkt\"\n",
        "aInsulin = \"giveqcctsicslyqlenycn\"\n",
        "cInsulin = \"rreaedlqvgqvelgggpgagslqplalegslqkr\"\n",
        "\n",
        "insulin = bInsulin + aInsulin\n",
        "\n",
        "# Printing \"the sequence of human insulin\" to console using successive print() commands:\n",
        "print(\"The sequence of human preproinsulin:\")\n",
        "print(preproInsulin)\n",
        "\n",
        "# Printing to console using concatenated strings inside the print function (one-liner):\n",
        "print(\"The sequence of human insulin, chain a: \" + aInsulin)\n",
        "print(\"The sequence of human insulin, chain a:\", aInsulin)\n"
      ],
      "metadata": {
        "colab": {
          "base_uri": "https://localhost:8080/"
        },
        "id": "xlfS2PAqPJxg",
        "outputId": "96143f5e-48b2-483a-e003-54c7a5ab8cdf"
      },
      "execution_count": null,
      "outputs": [
        {
          "output_type": "stream",
          "name": "stdout",
          "text": [
            "The sequence of human preproinsulin:\n",
            "malwmrllpllallalwgpdpaaafvnqhlcgshlvealylvcgergffytpktrreaedlqvgqvelgggpgagslqplalegslqkrgiveqcctsicslyqlenycn\n",
            "The sequence of human insulin, chain a: giveqcctsicslyqlenycn\n",
            "The sequence of human insulin, chain a: giveqcctsicslyqlenycn\n"
          ]
        }
      ]
    },
    {
      "cell_type": "markdown",
      "source": [
        "Exercise 4: Calculating the rough molecular weight of human insulin using the given code"
      ],
      "metadata": {
        "id": "GDIPVcHOZLtu"
      }
    },
    {
      "cell_type": "code",
      "source": [
        "# Calculating the molecular weight of insulin  \n",
        "# Creating a list of the amino acid (AA) weights  \n",
        "aaWeights = {'A': 89.09, 'C': 121.16, 'D': 133.10, 'E': 147.13, 'F': 165.19,\n",
        "'G': 75.07, 'H': 155.16, 'I': 131.17, 'K': 146.19, 'L': 131.17, 'M': 149.21,\n",
        "'N': 132.12, 'P': 115.13, 'Q': 146.15, 'R': 174.20, 'S': 105.09, 'T': 119.12,\n",
        "'V': 117.15, 'W': 204.23, 'Y': 181.19}  \n",
        "# Count the number of each amino acids  \n",
        "aaCountInsulin = ({x: float(insulin.upper().count(x)) for x in ['A', 'C',\n",
        "'D', 'E', 'F', 'G', 'H', 'I', 'K', 'L', 'M', 'N', 'P', 'Q', 'R', 'S', 'T',\n",
        "'V', 'W', 'Y']})  \n",
        "# Multiply the count by the weights  \n",
        "molecularWeightInsulin = sum({x: (aaCountInsulin[x]*aaWeights[x]) for x in\n",
        "['A', 'C', 'D', 'E', 'F', 'G', 'H', 'I', 'K', 'L', 'M', 'N', 'P', 'Q', 'R',\n",
        "'S', 'T', 'V', 'W', 'Y']}.values())  \n",
        "print(\"The rough molecular weight of insulin: \" +\n",
        "str(molecularWeightInsulin))"
      ],
      "metadata": {
        "colab": {
          "base_uri": "https://localhost:8080/"
        },
        "id": "tBqHoaOIPJzy",
        "outputId": "646ef815-0b44-4b97-becd-ac227ca83c0c"
      },
      "execution_count": null,
      "outputs": [
        {
          "output_type": "stream",
          "name": "stdout",
          "text": [
            "The rough molecular weight of insulin: 6696.420000000001\n"
          ]
        }
      ]
    },
    {
      "cell_type": "code",
      "source": [
        "molecularWeightInsulinActual = 5807.63\n",
        "print(\"Error percentage: \" + str(((molecularWeightInsulin - molecularWeightInsulinActual)/molecularWeightInsulinActual)*100))"
      ],
      "metadata": {
        "colab": {
          "base_uri": "https://localhost:8080/"
        },
        "id": "JNsfH1aWPJ2a",
        "outputId": "06c8a52c-411e-41cb-8e58-822a2c15295a"
      },
      "execution_count": null,
      "outputs": [
        {
          "output_type": "stream",
          "name": "stdout",
          "text": [
            "Error percentage: 15.30383306099047\n"
          ]
        }
      ]
    },
    {
      "cell_type": "code",
      "source": [
        "from num2words import num2words\n",
        "\n",
        "# num2word in cardinal format \n",
        "num = input(\"Enter Number? \")\n",
        "print(num2words(num))\n"
      ],
      "metadata": {
        "colab": {
          "base_uri": "https://localhost:8080/"
        },
        "id": "-ir4VBSFGhRZ",
        "outputId": "57270348-2759-4194-ee45-7b0ae8c5dd74"
      },
      "execution_count": null,
      "outputs": [
        {
          "output_type": "stream",
          "name": "stdout",
          "text": [
            "Enter Number? 1000000\n",
            "one million\n"
          ]
        }
      ]
    },
    {
      "cell_type": "code",
      "source": [
        "!python --version"
      ],
      "metadata": {
        "colab": {
          "base_uri": "https://localhost:8080/"
        },
        "id": "2LdTCY2boIEz",
        "outputId": "a316e3c3-3bdd-4620-b576-e2839dc137d1"
      },
      "execution_count": null,
      "outputs": [
        {
          "output_type": "stream",
          "name": "stdout",
          "text": [
            "Python 3.7.13\n"
          ]
        }
      ]
    },
    {
      "cell_type": "markdown",
      "source": [
        "## **Calculating the Net Charge of Insulin by Using Python Lists and Loops**"
      ],
      "metadata": {
        "id": "RCw9ghMBpYCW"
      }
    },
    {
      "cell_type": "code",
      "source": [
        "# Python3.6  \n",
        "# Coding: utf-8  \n",
        "# Store the human preproinsulin sequence in a variable called preproinsulin:  \n",
        "preproInsulin = \"malwmrllpllallalwgpdpaaafvnqhlcgshlvealylvcgergffytpktrreaedlqvgqvelgggpgagslqplalegslqkrgiveqcctsicslyqlenycn\"  \n",
        "# Store the remaining sequence elements of human insulin in variables:  \n",
        "lsInsulin = \"malwmrllpllallalwgpdpaaa\"  \n",
        "bInsulin = \"fvnqhlcgshlvealylvcgergffytpkt\"  \n",
        "aInsulin = \"giveqcctsicslyqlenycn\"  \n",
        "cInsulin = \"rreaedlqvgqvelgggpgagslqplalegslqkr\"  \n",
        "insulin = bInsulin + aInsulin\n",
        "# Exercise 1: Assigning variables, lists, and dictionaries\n",
        "pKR = {'y':10.07,'c': 8.18,'k':10.53,'h':6.00,'r':12.48,'d':3.65,'e':4.25}\n",
        "# Exercise 2: Using count() to count the numbers of each amino acid\n",
        "seqCount = ({x: float(insulin.count(x)) for x in ['y','c','k','h','r','d','e']})\n",
        "# Exercise 3: Writing the net charge formula\n",
        "pH = 14\n",
        "while (pH <= 14):\n",
        "  netCharge = (\n",
        "      +(sum({x: ((seqCount[x]*(10**pKR[x]))/((10**pH)+(10**pKR[x]))) \n",
        "      for x in ['k','h','r']}.values()))\n",
        "      -(sum({x: ((seqCount[x]*(10**pH))/((10**pH)+(10**pKR[x]))) \n",
        "      for x in ['y','c','d','e']}.values())))\n",
        "print('{0:.2f}'.format(pH), netCharge)\n",
        "\n"
      ],
      "metadata": {
        "id": "aizF4zLtoK_U"
      },
      "execution_count": null,
      "outputs": []
    },
    {
      "cell_type": "markdown",
      "source": [
        "## **Using Functions to Implement a Caesar Cipher**"
      ],
      "metadata": {
        "id": "rocVVcABt2bE"
      }
    },
    {
      "cell_type": "markdown",
      "source": [
        "Exercise 1: Creating a user-defined function"
      ],
      "metadata": {
        "id": "KcF7bTp198Td"
      }
    },
    {
      "cell_type": "code",
      "source": [
        "def getDoubleAlphabet(alphabet):\n",
        "    doubleAlphabet = alphabet + alphabet\n",
        "    return doubleAlphabet"
      ],
      "metadata": {
        "id": "-7EuyyPi937H"
      },
      "execution_count": null,
      "outputs": []
    },
    {
      "cell_type": "markdown",
      "source": [
        "Exercise 2: Encrypting a message"
      ],
      "metadata": {
        "id": "WRgxXdQn-C2m"
      }
    },
    {
      "cell_type": "code",
      "source": [
        "def getMessage():\n",
        "    stringToEncrypt = input(\"Please enter a message to encrypt: \")\n",
        "    return stringToEncrypt"
      ],
      "metadata": {
        "id": "q_5PQDqX934o"
      },
      "execution_count": null,
      "outputs": []
    },
    {
      "cell_type": "markdown",
      "source": [
        "Exercise 3: Getting a cipher key"
      ],
      "metadata": {
        "id": "_A8lPwik-JLU"
      }
    },
    {
      "cell_type": "code",
      "source": [
        "def getCipherKey():\n",
        "    shiftAmount = input( \"Please enter a key (whole number from 1-25): \")\n",
        "    return shiftAmount\n"
      ],
      "metadata": {
        "id": "W4KMnuqU932H"
      },
      "execution_count": null,
      "outputs": []
    },
    {
      "cell_type": "markdown",
      "source": [
        "Exercise 4: Encrypting a message"
      ],
      "metadata": {
        "id": "CeF7aSSm-Si5"
      }
    },
    {
      "cell_type": "code",
      "source": [
        "def encryptMessage(message, cipherKey, alphabet):\n",
        "    encryptedMessage = \"\"\n",
        "    uppercaseMessage = \"\"\n",
        "    uppercaseMessage = message.upper()\n",
        "    for currentCharacter in uppercaseMessage:\n",
        "        position = alphabet.find(currentCharacter)\n",
        "        newPosition = position + int(cipherKey)\n",
        "        if currentCharacter in alphabet:\n",
        "            encryptedMessage = encryptedMessage + alphabet[newPosition]\n",
        "        else:\n",
        "            encryptedMessage = encryptedMessage + currentCharacter\n",
        "    return encryptedMessage"
      ],
      "metadata": {
        "id": "eCBgwfsa93zy"
      },
      "execution_count": null,
      "outputs": []
    },
    {
      "cell_type": "markdown",
      "source": [
        "Exercise 5: Decrypting a message"
      ],
      "metadata": {
        "id": "y--DLFZk-Zoc"
      }
    },
    {
      "cell_type": "code",
      "source": [
        "def decryptMessage(message, cipherKey, alphabet):\n",
        "    decryptKey = -1 * int(cipherKey)\n",
        "    return encryptMessage(message, decryptKey, alphabet)"
      ],
      "metadata": {
        "id": "4BvgBILx93xJ"
      },
      "execution_count": null,
      "outputs": []
    },
    {
      "cell_type": "markdown",
      "source": [
        "Exercise 6: Creating a main function"
      ],
      "metadata": {
        "id": "07Ip7PbH-jkB"
      }
    },
    {
      "cell_type": "code",
      "source": [
        "def runCaesarCipherProgram():\n",
        "    myAlphabet=\"ABCDEFGHIJKLMNOPQRSTUVWXYZ\"\n",
        "    print(f'Alphabet: {myAlphabet}')\n",
        "    myAlphabet2 = getDoubleAlphabet(myAlphabet)\n",
        "    print(f'Alphabet2: {myAlphabet2}')\n",
        "    myMessage = getMessage()\n",
        "    print(myMessage)\n",
        "    myCipherKey = getCipherKey()\n",
        "    print(myCipherKey)\n",
        "    myEncryptedMessage = encryptMessage(myMessage, myCipherKey, myAlphabet2)\n",
        "    print(f'Encrypted Message: {myEncryptedMessage}')\n",
        "    myDecryptedMessage = decryptMessage(myEncryptedMessage, myCipherKey, myAlphabet2)\n",
        "    print(f'Decypted Message: {myDecryptedMessage}')"
      ],
      "metadata": {
        "id": "6PiWSn3p93ug"
      },
      "execution_count": null,
      "outputs": []
    },
    {
      "cell_type": "markdown",
      "source": [
        "To call the function"
      ],
      "metadata": {
        "id": "hy-3CV_H-skS"
      }
    },
    {
      "cell_type": "code",
      "source": [
        "runCaesarCipherProgram()"
      ],
      "metadata": {
        "colab": {
          "base_uri": "https://localhost:8080/"
        },
        "id": "t60KtCHz93py",
        "outputId": "169d480a-5aaa-4f53-b458-6216c74af726"
      },
      "execution_count": null,
      "outputs": [
        {
          "output_type": "stream",
          "name": "stdout",
          "text": [
            "Alphabet: ABCDEFGHIJKLMNOPQRSTUVWXYZ\n",
            "Alphabet2: ABCDEFGHIJKLMNOPQRSTUVWXYZABCDEFGHIJKLMNOPQRSTUVWXYZ\n",
            "Please enter a message to encrypt: Alistair\n",
            "Alistair\n",
            "Please enter a key (whole number from 1-25): 1\n",
            "1\n",
            "Encrypted Message: BMJTUBJS\n",
            "Decypted Message: ALISTAIR\n"
          ]
        }
      ]
    },
    {
      "cell_type": "markdown",
      "source": [
        "## **Creating File Handlers and Modules for Retrieving Information about Insulin**"
      ],
      "metadata": {
        "id": "EquDKR1GxRzd"
      }
    },
    {
      "cell_type": "markdown",
      "source": [
        "Exercise 1: Creating the JSON molecules data file"
      ],
      "metadata": {
        "id": "waWICREzxe3G"
      }
    },
    {
      "cell_type": "code",
      "source": [
        "{\n",
        "   \"molecules\":{\n",
        "      \"lsInsulin\":\"malwmrllpllallalwgpdpaaa\",\n",
        "      \"bInsulin\":\"fvnqhlcgshlvealylvcgergffytpkt\",\n",
        "      \"aInsulin\":\"giveqcctsicslyqlenycn\",\n",
        "      \"cInsulin\":\"rreaedlqvgqvelgggpgagslqplalegslqkr\"\n",
        "   },\n",
        "   \"weights\":{\n",
        "      \"A\":89.09,\n",
        "      \"C\":121.16,\n",
        "      \"D\":133.10,\n",
        "      \"E\":147.13,\n",
        "      \"F\":165.19,\n",
        "      \"G\":75.07,\n",
        "      \"H\":155.16,\n",
        "      \"I\":131.17,\n",
        "      \"K\":146.19,\n",
        "      \"L\":131.17,\n",
        "      \"M\":149.21,\n",
        "      \"N\":132.12,\n",
        "      \"P\":115.13,\n",
        "      \"Q\":146.15,\n",
        "      \"R\":174.20,\n",
        "      \"S\":105.09,\n",
        "      \"T\":119.12,\n",
        "      \"V\":117.15,\n",
        "      \"W\":204.23,\n",
        "      \"Y\":181.19\n",
        "   },\n",
        "   \"molecularWeightInsulinActual\":5807.63\n",
        "}"
      ],
      "metadata": {
        "id": "ZvoCuBuA93ib"
      },
      "execution_count": null,
      "outputs": []
    },
    {
      "cell_type": "markdown",
      "source": [
        "Exercise 2: Creating the JSON file handler module"
      ],
      "metadata": {
        "id": "ouIiLPTZxqH-"
      }
    },
    {
      "cell_type": "code",
      "source": [
        "import json\n",
        "\n",
        "def readJsonFile(fileName):\n",
        "\n",
        "data=\"\" \n",
        "\n",
        "def readJsonFile(fileName):\n",
        "    data = \"\"\n",
        "    with open('files/insulin.json') as json_file:\n",
        "        data = json.load(json_file)\n",
        "    return data"
      ],
      "metadata": {
        "id": "v5oh10BC93fB"
      },
      "execution_count": null,
      "outputs": []
    },
    {
      "cell_type": "code",
      "source": [
        "# save this code as jsonFileHandler.py\n",
        "import json\n",
        "\n",
        "def readJsonFile(fileName):\n",
        "    data = \"\"\n",
        "    try:\n",
        "        with open(fileName) as json_file:\n",
        "            data = json.load(json_file)\n",
        "    except IOError:\n",
        "        print(\"Could not read file\")\n",
        "    return data"
      ],
      "metadata": {
        "id": "3gHxgBl2t6Mw"
      },
      "execution_count": null,
      "outputs": []
    },
    {
      "cell_type": "markdown",
      "source": [
        "Exercise 3: Creating the main program"
      ],
      "metadata": {
        "id": "zIqtCXYH5QEn"
      }
    },
    {
      "cell_type": "code",
      "source": [
        "import json\n",
        "import jsonFileHandler\n",
        "\n",
        "data = jsonFileHandler.readJsonFile('files/insulin.json')\n",
        "\n",
        "if data != \"\" :\n",
        "    bInsulin = data['molecules']['bInsulin']\n",
        "    aInsulin = data['molecules']['aInsulin']\n",
        "    insulin = bInsulin + aInsulin\n",
        "    molecularWeightInsulinActual = data['molecularWeightInsulinActual']\n",
        "    print('bInsulin: ' + bInsulin)\n",
        "    print('aInsulin: ' + aInsulin)\n",
        "    print('molecularWeightInsulinActual: ' + str(molecularWeightInsulinActual))\n",
        "else:\n",
        "    print(\"Error. Exiting program\")\n",
        "    \n",
        "# Calculating the molecular weight of insulin  \n",
        "# Getting a list of the amino acid (AA) weights  \n",
        "aaWeights = data['weights']\n",
        "# Count the number of each amino acids  \n",
        "aaCountInsulin = ({x: float(insulin.upper().count(x)) for x in ['A','C','D', 'E', 'F', 'G', 'H', 'I', 'K', 'L', 'M', 'N', 'P', 'Q', 'R','S', 'T','V', 'W', 'Y']})  \n",
        "# Multiply the count by the weights  \n",
        "molecularWeightInsulin = sum({x: (aaCountInsulin[x]*aaWeights[x]) for x in\n",
        "['A', 'C', 'D', 'E', 'F', 'G', 'H', 'I', 'K', 'L', 'M', 'N', 'P', 'Q', 'R','S', 'T', 'V', 'W', 'Y']}.values())  \n",
        "print(\"The rough molecular weight of insulin: \" +\n",
        "str(molecularWeightInsulin))\n",
        "print(\"Percent error: \" + str(((molecularWeightInsulin - molecularWeightInsulinActual)/molecularWeightInsulinActual)*100))"
      ],
      "metadata": {
        "id": "LcmvENMEt6Jm"
      },
      "execution_count": null,
      "outputs": []
    },
    {
      "cell_type": "markdown",
      "source": [
        "## **Introducing System Administration with Python**"
      ],
      "metadata": {
        "id": "MS8ga8qC-GkA"
      }
    },
    {
      "cell_type": "markdown",
      "source": [
        "Exercise 1: Using os.system"
      ],
      "metadata": {
        "id": "H7KvEy0V-KxP"
      }
    },
    {
      "cell_type": "code",
      "source": [
        "import os"
      ],
      "metadata": {
        "id": "IFHtljR_t6ET"
      },
      "execution_count": 6,
      "outputs": []
    },
    {
      "cell_type": "code",
      "source": [
        "os.system(\"ls\")"
      ],
      "metadata": {
        "id": "I-QAflqct6By",
        "colab": {
          "base_uri": "https://localhost:8080/"
        },
        "outputId": "6e7121f2-25fa-4f63-d2c3-1c31f8ac3edd"
      },
      "execution_count": 7,
      "outputs": [
        {
          "output_type": "execute_result",
          "data": {
            "text/plain": [
              "0"
            ]
          },
          "metadata": {},
          "execution_count": 7
        }
      ]
    },
    {
      "cell_type": "markdown",
      "source": [
        "Exercise 2: Using subprocess.run"
      ],
      "metadata": {
        "id": "9cYPLnlH-oPC"
      }
    },
    {
      "cell_type": "code",
      "source": [
        "import subprocess"
      ],
      "metadata": {
        "id": "yamlRUiet5_J"
      },
      "execution_count": 8,
      "outputs": []
    },
    {
      "cell_type": "code",
      "source": [
        "subprocess.run([\"ls\"])"
      ],
      "metadata": {
        "id": "IobzenxRt59I",
        "colab": {
          "base_uri": "https://localhost:8080/"
        },
        "outputId": "4481d075-4455-4d15-b585-8f7a5964c355"
      },
      "execution_count": 9,
      "outputs": [
        {
          "output_type": "execute_result",
          "data": {
            "text/plain": [
              "CompletedProcess(args=['ls'], returncode=0)"
            ]
          },
          "metadata": {},
          "execution_count": 9
        }
      ]
    },
    {
      "cell_type": "markdown",
      "source": [
        "Exercise 3: Using subprocess.run with two arguments"
      ],
      "metadata": {
        "id": "w1d2OMU7_Y3Q"
      }
    },
    {
      "cell_type": "code",
      "source": [
        "subprocess.run([\"ls\",\"-l\"])"
      ],
      "metadata": {
        "id": "kF7hhFOLt56V"
      },
      "execution_count": null,
      "outputs": []
    },
    {
      "cell_type": "markdown",
      "source": [
        "Exercise 4: Using subprocess.run with three arguments"
      ],
      "metadata": {
        "id": "PqIcMYDH_b9X"
      }
    },
    {
      "cell_type": "code",
      "source": [
        "subprocess.run([\"ls\",\"-l\",\"README.md\"])"
      ],
      "metadata": {
        "id": "uIjVGvR4t53O"
      },
      "execution_count": null,
      "outputs": []
    },
    {
      "cell_type": "markdown",
      "source": [
        "Exercise 5: Retrieving system information"
      ],
      "metadata": {
        "id": "sovL2g2U_i6s"
      }
    },
    {
      "cell_type": "code",
      "source": [
        "command=\"uname\"\n",
        "commandArgument=\"-a\"\n",
        "print(f'Gathering system information with command: {command} {commandArgument}')\n",
        "subprocess.run([command,commandArgument])"
      ],
      "metadata": {
        "id": "onCpglERt505"
      },
      "execution_count": null,
      "outputs": []
    },
    {
      "cell_type": "markdown",
      "source": [
        "Exercise 6: Retrieving information about disk space"
      ],
      "metadata": {
        "id": "numqI99-_o2w"
      }
    },
    {
      "cell_type": "code",
      "source": [
        "command=\"ps\"\n",
        "commandArgument=\"-x\"\n",
        "print(f'Gathering active process information with command: {command} {commandArgument}')\n",
        "subprocess.run([command,commandArgument])"
      ],
      "metadata": {
        "id": "iE94TKCN_mgX"
      },
      "execution_count": null,
      "outputs": []
    },
    {
      "cell_type": "markdown",
      "source": [
        "## **Using the Debugger**"
      ],
      "metadata": {
        "id": "yEDN0hMe_tuX"
      }
    },
    {
      "cell_type": "code",
      "source": [
        "name = \"John\"\n",
        "print(\"Hello \" + name + \".\")\n",
        "age = 40\n",
        "print(name + \" is \" + str(age) + \" years old.\")"
      ],
      "metadata": {
        "id": "LkA6fMR8_mjF"
      },
      "execution_count": null,
      "outputs": []
    },
    {
      "cell_type": "markdown",
      "source": [
        "![image.png](data:image/png;base64,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)"
      ],
      "metadata": {
        "id": "nZZdc2eLAZ2d"
      }
    },
    {
      "cell_type": "markdown",
      "source": [
        "![image.png](data:image/png;base64,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)"
      ],
      "metadata": {
        "id": "ZaMPSFDdAmJV"
      }
    },
    {
      "cell_type": "markdown",
      "source": [
        "![image.png](data:image/png;base64,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)"
      ],
      "metadata": {
        "id": "IatxdCQiAv66"
      }
    },
    {
      "cell_type": "markdown",
      "source": [
        "Exercise 2: Using the Python Debugger"
      ],
      "metadata": {
        "id": "vMsdEZyHA2Zr"
      }
    },
    {
      "cell_type": "markdown",
      "source": [
        "Using the debugging basics you learned in Exercise 1, try stepping through some of the other labs to practice using the Python Debugger."
      ],
      "metadata": {
        "id": "fT1nluTAA8U3"
      }
    },
    {
      "cell_type": "markdown",
      "source": [
        "## **Debugging the Caesar Cipher Program**"
      ],
      "metadata": {
        "id": "u7p9GpSmA_fF"
      }
    },
    {
      "cell_type": "code",
      "source": [
        "# Module Lab: Caesar Cipher Program Bug #1\n",
        "#\n",
        "# In a previous lab, you created a Caesar cipher program. This version of\n",
        "# the program is buggy. Use a debugger to find the bug and fix it.\n",
        "\n",
        "# Double the given alphabet\n",
        "def getDoubleAlphabet(alphabet):\n",
        "    doubleAlphabet = alphabet + alphabet\n",
        "    return doubleAlphabet\n",
        "\n",
        "# Get a message to encrypt\n",
        "def getMessage():\n",
        "    stringToEncrypt = input(\"Please enter a message to encrypt: \")\n",
        "    return stringToEncrypt\n",
        "\n",
        "# Get a cipher key\n",
        "def getCipherKey():\n",
        "    shiftAmount = input(\"Please enter a key (whole number from 1-25): \")\n",
        "    return shiftAmount\n",
        "\n",
        "# Encrypt message\n",
        "def encryptMessage(message, cipherKey, alphabet):\n",
        "    encryptedMessage = \"\"\n",
        "    uppercaseMessage = \"\"\n",
        "    uppercaseMessage = message.upper()\n",
        "    for currentCharacter in uppercaseMessage:\n",
        "        position = alphabet.find(currentCharacter)\n",
        "        newPosition = position + cipherKey\n",
        "        if currentCharacter in alphabet:\n",
        "            encryptedMessage = encryptedMessage + alphabet[newPosition]\n",
        "        else:\n",
        "            encryptedMessage = encryptedMessage + currentCharacter\n",
        "    return encryptedMessage\n",
        "\n",
        "# Decrypt message\n",
        "def decryptMessage(message, cipherKey, alphabet):\n",
        "    decryptKey = -1 * int(cipherKey)\n",
        "    return encryptMessage(message, decryptKey, alphabet)\n",
        "\n",
        "# Main program logic\n",
        "def runCaesarCipherProgram():\n",
        "    myAlphabet=\"ABCDEFGHIJKLMNOPQRSTUVWXYZ\"\n",
        "    print(f'Alphabet: {myAlphabet}')\n",
        "    myAlphabet2 = getDoubleAlphabet(myAlphabet)\n",
        "    print(f'Alphabet2: {myAlphabet2}')\n",
        "    myMessage = getMessage()\n",
        "    print(myMessage)\n",
        "    myCipherKey = getCipherKey()\n",
        "    print(myCipherKey)\n",
        "    myEncryptedMessage = encryptMessage(myMessage, myCipherKey, myAlphabet2)\n",
        "    print(f'Encrypted Message: {myEncryptedMessage}')\n",
        "    myDecryptedMessage = decryptMessage(myEncryptedMessage, myCipherKey, myAlphabet2)\n",
        "    print(f'Decrypted Message: {myDecryptedMessage}')\n",
        "\n",
        "# Main logic\n",
        "runCaesarCipherProgram()"
      ],
      "metadata": {
        "id": "AvPIL2wI_mlb"
      },
      "execution_count": null,
      "outputs": []
    },
    {
      "cell_type": "markdown",
      "source": [
        "![image.png](data:image/png;base64,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)"
      ],
      "metadata": {
        "id": "oOxOaoDsBW5p"
      }
    },
    {
      "cell_type": "markdown",
      "source": [
        "Exercise 2: Working with the buggy Caesar cipher program - Part 2"
      ],
      "metadata": {
        "id": "wRw4T5-iBdqI"
      }
    },
    {
      "cell_type": "code",
      "source": [
        "# Module Lab: Caesar Cipher Program Bug #2\n",
        "#\n",
        "# In a previous lab, you created a Caesar cipher program. This version of\n",
        "# the program is buggy. Use a debugger to find the bug and fix it.\n",
        "\n",
        "# Double the given alphabet\n",
        "def getDoubleAlphabet(alphabet):\n",
        "    doubleAlphabet = alphabet + alphabet\n",
        "    return doubleAlphabet\n",
        "\n",
        "# Get a message to encrypt\n",
        "def getMessage():\n",
        "    stringToEncrypt = input(\"Please enter a message to encrypt: \")\n",
        "    return stringToEncrypt\n",
        "\n",
        "# Get a cipher key\n",
        "def getCipherKey():\n",
        "    shiftAmount = input(\"Please enter a key (whole number from 1-25): \")\n",
        "    return shiftAmount\n",
        "\n",
        "# Encrypt message\n",
        "def encryptMessage(message, cipherKey, alphabet):\n",
        "    encryptedMessage = \"\"\n",
        "    uppercaseMessage = \"\"\n",
        "    uppercaseMessage = message\n",
        "    for currentCharacter in uppercaseMessage:\n",
        "        position = alphabet.find(currentCharacter)\n",
        "        newPosition = position + int(cipherKey)\n",
        "        if currentCharacter in alphabet:\n",
        "            encryptedMessage = encryptedMessage + alphabet[newPosition]\n",
        "        else:\n",
        "            encryptedMessage = encryptedMessage + currentCharacter\n",
        "    return encryptedMessage\n",
        "\n",
        "# Decrypt message\n",
        "def decryptMessage(message, cipherKey, alphabet):\n",
        "    decryptKey = -1 * int(cipherKey)\n",
        "    return encryptMessage(message, decryptKey, alphabet)\n",
        "\n",
        "# Main program logic\n",
        "def runCaesarCipherProgram():\n",
        "    myAlphabet=\"ABCDEFGHIJKLMNOPQRSTUVWXYZ\"\n",
        "    print(f'Alphabet: {myAlphabet}')\n",
        "    myAlphabet2 = getDoubleAlphabet(myAlphabet)\n",
        "    print(f'Alphabet2: {myAlphabet2}')\n",
        "    myMessage = getMessage()\n",
        "    print(myMessage)\n",
        "    myCipherKey = getCipherKey()\n",
        "    print(myCipherKey)\n",
        "    myEncryptedMessage = encryptMessage(myMessage, myCipherKey, myAlphabet2)\n",
        "    print(f'Encrypted Message: {myEncryptedMessage}')\n",
        "    myDecryptedMessage = decryptMessage(myEncryptedMessage, myCipherKey, myAlphabet2)\n",
        "    print(f'Decrypted Message: {myDecryptedMessage}')\n",
        "\n",
        "# Main logic\n",
        "runCaesarCipherProgram()"
      ],
      "metadata": {
        "id": "ekqjkzBr_mnt"
      },
      "execution_count": null,
      "outputs": []
    },
    {
      "cell_type": "markdown",
      "source": [
        "![image.png](data:image/png;base64,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)"
      ],
      "metadata": {
        "id": "gAKXJF0iBjiW"
      }
    },
    {
      "cell_type": "markdown",
      "source": [
        "Exercise 3: Working with the buggy Caesar cipher program - Part 3"
      ],
      "metadata": {
        "id": "YH1qNnsZBm9b"
      }
    },
    {
      "cell_type": "code",
      "source": [
        "# Module Lab: Caesar Cipher Program Bug #3\n",
        "#\n",
        "# In a previous lab, you created a Caesar cipher program. This version of\n",
        "# the program is buggy. Use a debugger to find the bug and fix it.\n",
        "\n",
        "# Double the given alphabet\n",
        "def getDoubleAlphabet(alphabet):\n",
        "    doubleAlphabet = alphabet + alphabet\n",
        "    return doubleAlphabet\n",
        "\n",
        "# Get a message to encrypt\n",
        "def getMessage():\n",
        "    stringToEncrypt = input(\"Please enter a message to encrypt: \")\n",
        "    return stringToEncrypt\n",
        "\n",
        "# Get a cipher key\n",
        "def getCipherKey():\n",
        "    shiftAmount = input(\"Please enter a key (whole number from 1-25): \")\n",
        "    return shiftAmount\n",
        "\n",
        "# Encrypt message\n",
        "def encryptMessage(message, cipherKey, alphabet):\n",
        "    encryptedMessage = \"\"\n",
        "    uppercaseMessage = \"\"\n",
        "    uppercaseMessage = message.upper()\n",
        "    for currentCharacter in uppercaseMessage:\n",
        "        position = alphabet.find(currentCharacter)\n",
        "        newPosition = position + int(cipherKey)\n",
        "        if currentCharacter in alphabet:\n",
        "            encryptedMessage = encryptedMessage + alphabet[newPosition]\n",
        "        else:\n",
        "            encryptedMessage = encryptedMessage + currentCharacter\n",
        "    return encryptedMessage\n",
        "\n",
        "# Decrypt message\n",
        "def decryptMessage(message, cipherKey, alphabet):\n",
        "    decryptKey = -1 * int(cipherKey)\n",
        "    return encryptMessage(message, cipherKey, alphabet)\n",
        "\n",
        "# Main program logic\n",
        "def runCaesarCipherProgram():\n",
        "    myAlphabet=\"ABCDEFGHIJKLMNOPQRSTUVWXYZ\"\n",
        "    print(f'Alphabet: {myAlphabet}')\n",
        "    myAlphabet2 = getDoubleAlphabet(myAlphabet)\n",
        "    print(f'Alphabet2: {myAlphabet2}')\n",
        "    myMessage = getMessage()\n",
        "    print(myMessage)\n",
        "    myCipherKey = getCipherKey()\n",
        "    print(myCipherKey)\n",
        "    myEncryptedMessage = encryptMessage(myMessage, myCipherKey, myAlphabet2)\n",
        "    print(f'Encrypted Message: {myEncryptedMessage}')\n",
        "    myDecryptedMessage = decryptMessage(myEncryptedMessage, myCipherKey, myAlphabet2)\n",
        "    print(f'Decrypted Message: {myDecryptedMessage}')\n",
        "\n",
        "# Main logic\n",
        "runCaesarCipherProgram()"
      ],
      "metadata": {
        "id": "r1lkyMWE_mp1"
      },
      "execution_count": null,
      "outputs": []
    },
    {
      "cell_type": "markdown",
      "source": [
        "![image.png](data:image/png;base64,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)"
      ],
      "metadata": {
        "id": "2uH2EKgLBuAP"
      }
    },
    {
      "cell_type": "markdown",
      "source": [
        "Exercise 4: Working with the buggy Caesar cipher program - Part 4"
      ],
      "metadata": {
        "id": "3BPaoNHKBxhq"
      }
    },
    {
      "cell_type": "code",
      "source": [
        "# Module Lab: Caesar Cipher Program Bug #4\n",
        "#\n",
        "# In a previous lab, you created a Caesar cipher program. This version of\n",
        "# the program is buggy. Use a debugger to find the bug and fix it.\n",
        "\n",
        "# Double the given alphabet\n",
        "def getDoubleAlphabet(alphabet):\n",
        "    doubleAlphabet = alphabet + alphabet\n",
        "    return doubleAlphabet\n",
        "\n",
        "# Get a message to encrypt\n",
        "def getMessage():\n",
        "    stringToEncrypt = input(\"Please enter a message to encrypt: \")\n",
        "    return stringToEncrypt\n",
        "\n",
        "# Get a cipher key\n",
        "def getCipherKey():\n",
        "    shiftAmount = input(\"Please enter a key (whole number from 1-25): \")\n",
        "    return shiftAmount\n",
        "\n",
        "# Encrypt message\n",
        "def encryptMessage(message, cipherKey, alphabet):\n",
        "    encryptedMessage = \"\"\n",
        "    uppercaseMessage = \"\"\n",
        "    uppercaseMessage = message.upper()\n",
        "    for currentCharacter in uppercaseMessage:\n",
        "        position = alphabet.find(currentCharacter)\n",
        "        newPosition = position + int(cipherKey)\n",
        "        if currentCharacter in alphabet:\n",
        "            encryptedMessage = encryptedMessage + alphabet[newPosition]\n",
        "        else:\n",
        "            encryptedMessage = encryptedMessage + currentCharacter\n",
        "    return encryptedMessage\n",
        "\n",
        "# Decrypt message\n",
        "def decryptMessage(message, cipherKey, alphabet):\n",
        "    decryptKey = -1 * int(cipherKey)\n",
        "    return encryptMessage(message, decryptKey, alphabet)\n",
        "\n",
        "# Main program logic\n",
        "def runCaesarCipherProgram():\n",
        "    myAlphabet=\"ABCDEFGHIJKLMNOPQRSTUVWXYZ\"\n",
        "    print(f'Alphabet: {myAlphabet}')\n",
        "    myAlphabet2 = getDoubleAlphabet(myAlphabet)\n",
        "    print(f'Alphabet2: {myAlphabet2}')\n",
        "    myMessage = getMessage()\n",
        "    print(myMessage)\n",
        "    myCipherKey = getCipherKey()\n",
        "    print(myCipherKey)\n",
        "    myEncryptedMessage = encryptMessage(myMessage, myCipherKey, myAlphabet2)\n",
        "    print(f'Encrypted Message: {myEncryptedMessage}')\n",
        "    myDecryptedMessage = decryptMessage(myEncryptedMessage, myCipherKey, myAlphabet2)\n",
        "    print(f'Decrypted Message: {myEncryptedMessage}')\n",
        "\n",
        "# Main logic\n",
        "runCaesarCipherProgram()"
      ],
      "metadata": {
        "id": "wUHxAD2G_msh"
      },
      "execution_count": null,
      "outputs": []
    },
    {
      "cell_type": "markdown",
      "source": [
        "![image.png](data:image/png;base64,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)"
      ],
      "metadata": {
        "id": "VbbJJkxhB3Dp"
      }
    },
    {
      "cell_type": "code",
      "source": [
        ""
      ],
      "metadata": {
        "id": "oJZyKVs4_mu1"
      },
      "execution_count": null,
      "outputs": []
    },
    {
      "cell_type": "code",
      "source": [
        ""
      ],
      "metadata": {
        "id": "DIzsxVtB_mxW"
      },
      "execution_count": null,
      "outputs": []
    },
    {
      "cell_type": "code",
      "source": [
        ""
      ],
      "metadata": {
        "id": "gEI49PhA_mzY"
      },
      "execution_count": null,
      "outputs": []
    },
    {
      "cell_type": "code",
      "source": [
        ""
      ],
      "metadata": {
        "id": "JUGbnLrL_m14"
      },
      "execution_count": null,
      "outputs": []
    },
    {
      "cell_type": "code",
      "source": [
        ""
      ],
      "metadata": {
        "id": "ILMRVzyM_m4H"
      },
      "execution_count": null,
      "outputs": []
    },
    {
      "cell_type": "code",
      "source": [
        ""
      ],
      "metadata": {
        "id": "Ol6VBpFc_m6k"
      },
      "execution_count": null,
      "outputs": []
    },
    {
      "cell_type": "code",
      "source": [
        ""
      ],
      "metadata": {
        "id": "MRX0Rxv1_m87"
      },
      "execution_count": null,
      "outputs": []
    },
    {
      "cell_type": "code",
      "source": [
        ""
      ],
      "metadata": {
        "id": "Ko0m8hdE_m_f"
      },
      "execution_count": null,
      "outputs": []
    },
    {
      "cell_type": "code",
      "source": [
        ""
      ],
      "metadata": {
        "id": "P1Z5HCu0_nCG"
      },
      "execution_count": null,
      "outputs": []
    },
    {
      "cell_type": "code",
      "source": [
        ""
      ],
      "metadata": {
        "id": "CbGhltMz_nEN"
      },
      "execution_count": null,
      "outputs": []
    },
    {
      "cell_type": "code",
      "source": [
        ""
      ],
      "metadata": {
        "id": "I5rWrPsh_nG_"
      },
      "execution_count": null,
      "outputs": []
    },
    {
      "cell_type": "code",
      "source": [
        ""
      ],
      "metadata": {
        "id": "PsK3_RvI_nJY"
      },
      "execution_count": null,
      "outputs": []
    },
    {
      "cell_type": "code",
      "source": [
        ""
      ],
      "metadata": {
        "id": "En3l6PsI_nL1"
      },
      "execution_count": null,
      "outputs": []
    },
    {
      "cell_type": "code",
      "source": [
        ""
      ],
      "metadata": {
        "id": "cQKZozn6t5yZ"
      },
      "execution_count": null,
      "outputs": []
    },
    {
      "cell_type": "code",
      "source": [
        ""
      ],
      "metadata": {
        "id": "_LUVvKz0t5v4"
      },
      "execution_count": null,
      "outputs": []
    },
    {
      "cell_type": "code",
      "source": [
        ""
      ],
      "metadata": {
        "id": "b0qkWxg6t5tP"
      },
      "execution_count": null,
      "outputs": []
    }
  ]
}